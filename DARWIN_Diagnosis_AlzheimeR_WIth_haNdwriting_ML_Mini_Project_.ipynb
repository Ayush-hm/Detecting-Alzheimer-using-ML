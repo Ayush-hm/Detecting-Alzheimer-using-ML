{
  "cells": [
    {
      "cell_type": "markdown",
      "metadata": {
        "id": "view-in-github",
        "colab_type": "text"
      },
      "source": [
        "<a href=\"https://colab.research.google.com/github/Ayush-hm/Detecting-Alzheimer-using-ML/blob/main/DARWIN_Diagnosis_AlzheimeR_WIth_haNdwriting_ML_Mini_Project_.ipynb\" target=\"_parent\"><img src=\"https://colab.research.google.com/assets/colab-badge.svg\" alt=\"Open In Colab\"/></a>"
      ]
    },
    {
      "cell_type": "markdown",
      "metadata": {
        "id": "j4TvHmbH2Roz"
      },
      "source": [
        "# **Logistic Regression Model**\n",
        "\n"
      ]
    },
    {
      "cell_type": "code",
      "execution_count": null,
      "metadata": {
        "id": "2IyzXjXVCbmo"
      },
      "outputs": [],
      "source": [
        "import numpy as np\n",
        "import pandas as pd\n",
        "import matplotlib.pyplot as plt"
      ]
    },
    {
      "cell_type": "code",
      "execution_count": null,
      "metadata": {
        "id": "02q0T1NfCghS"
      },
      "outputs": [],
      "source": [
        "df=pd.read_csv(\"/content/DARWIN.csv\");"
      ]
    },
    {
      "cell_type": "code",
      "execution_count": null,
      "metadata": {
        "id": "MsLVjwrUC663",
        "colab": {
          "base_uri": "https://localhost:8080/",
          "height": 299
        },
        "outputId": "273ecac9-ea9e-441f-f0f8-258b1566ca9f"
      },
      "outputs": [
        {
          "output_type": "execute_result",
          "data": {
            "text/plain": [
              "     ID  air_time1  disp_index1  gmrt_in_air1  gmrt_on_paper1  \\\n",
              "0  id_1       5160     0.000013    120.804174       86.853334   \n",
              "1  id_2      51980     0.000016    115.318238       83.448681   \n",
              "2  id_3       2600     0.000010    229.933997      172.761858   \n",
              "3  id_4       2130     0.000010    369.403342      183.193104   \n",
              "4  id_5       2310     0.000007    257.997131      111.275889   \n",
              "\n",
              "   max_x_extension1  max_y_extension1  mean_acc_in_air1  mean_acc_on_paper1  \\\n",
              "0               957              6601          0.361800            0.217459   \n",
              "1              1694              6998          0.272513            0.144880   \n",
              "2              2333              5802          0.387020            0.181342   \n",
              "3              1756              8159          0.556879            0.164502   \n",
              "4               987              4732          0.266077            0.145104   \n",
              "\n",
              "   mean_gmrt1  ...  mean_jerk_in_air25  mean_jerk_on_paper25  \\\n",
              "0  103.828754  ...            0.141434              0.024471   \n",
              "1   99.383459  ...            0.049663              0.018368   \n",
              "2  201.347928  ...            0.178194              0.017174   \n",
              "3  276.298223  ...            0.113905              0.019860   \n",
              "4  184.636510  ...            0.121782              0.020872   \n",
              "\n",
              "   mean_speed_in_air25  mean_speed_on_paper25  num_of_pendown25  paper_time25  \\\n",
              "0             5.596487               3.184589                71         40120   \n",
              "1             1.665973               0.950249               129        126700   \n",
              "2             4.000781               2.392521                74         45480   \n",
              "3             4.206746               1.613522               123         67945   \n",
              "4             3.319036               1.680629                92         37285   \n",
              "\n",
              "   pressure_mean25  pressure_var25  total_time25  class  \n",
              "0      1749.278166     296102.7676        144605      P  \n",
              "1      1504.768272     278744.2850        298640      P  \n",
              "2      1431.443492     144411.7055         79025      P  \n",
              "3      1465.843329     230184.7154        181220      P  \n",
              "4      1841.702561     158290.0255         72575      P  \n",
              "\n",
              "[5 rows x 452 columns]"
            ],
            "text/html": [
              "\n",
              "  <div id=\"df-3a5cbc4b-e6f9-412e-89f9-d484e6f17e71\">\n",
              "    <div class=\"colab-df-container\">\n",
              "      <div>\n",
              "<style scoped>\n",
              "    .dataframe tbody tr th:only-of-type {\n",
              "        vertical-align: middle;\n",
              "    }\n",
              "\n",
              "    .dataframe tbody tr th {\n",
              "        vertical-align: top;\n",
              "    }\n",
              "\n",
              "    .dataframe thead th {\n",
              "        text-align: right;\n",
              "    }\n",
              "</style>\n",
              "<table border=\"1\" class=\"dataframe\">\n",
              "  <thead>\n",
              "    <tr style=\"text-align: right;\">\n",
              "      <th></th>\n",
              "      <th>ID</th>\n",
              "      <th>air_time1</th>\n",
              "      <th>disp_index1</th>\n",
              "      <th>gmrt_in_air1</th>\n",
              "      <th>gmrt_on_paper1</th>\n",
              "      <th>max_x_extension1</th>\n",
              "      <th>max_y_extension1</th>\n",
              "      <th>mean_acc_in_air1</th>\n",
              "      <th>mean_acc_on_paper1</th>\n",
              "      <th>mean_gmrt1</th>\n",
              "      <th>...</th>\n",
              "      <th>mean_jerk_in_air25</th>\n",
              "      <th>mean_jerk_on_paper25</th>\n",
              "      <th>mean_speed_in_air25</th>\n",
              "      <th>mean_speed_on_paper25</th>\n",
              "      <th>num_of_pendown25</th>\n",
              "      <th>paper_time25</th>\n",
              "      <th>pressure_mean25</th>\n",
              "      <th>pressure_var25</th>\n",
              "      <th>total_time25</th>\n",
              "      <th>class</th>\n",
              "    </tr>\n",
              "  </thead>\n",
              "  <tbody>\n",
              "    <tr>\n",
              "      <th>0</th>\n",
              "      <td>id_1</td>\n",
              "      <td>5160</td>\n",
              "      <td>0.000013</td>\n",
              "      <td>120.804174</td>\n",
              "      <td>86.853334</td>\n",
              "      <td>957</td>\n",
              "      <td>6601</td>\n",
              "      <td>0.361800</td>\n",
              "      <td>0.217459</td>\n",
              "      <td>103.828754</td>\n",
              "      <td>...</td>\n",
              "      <td>0.141434</td>\n",
              "      <td>0.024471</td>\n",
              "      <td>5.596487</td>\n",
              "      <td>3.184589</td>\n",
              "      <td>71</td>\n",
              "      <td>40120</td>\n",
              "      <td>1749.278166</td>\n",
              "      <td>296102.7676</td>\n",
              "      <td>144605</td>\n",
              "      <td>P</td>\n",
              "    </tr>\n",
              "    <tr>\n",
              "      <th>1</th>\n",
              "      <td>id_2</td>\n",
              "      <td>51980</td>\n",
              "      <td>0.000016</td>\n",
              "      <td>115.318238</td>\n",
              "      <td>83.448681</td>\n",
              "      <td>1694</td>\n",
              "      <td>6998</td>\n",
              "      <td>0.272513</td>\n",
              "      <td>0.144880</td>\n",
              "      <td>99.383459</td>\n",
              "      <td>...</td>\n",
              "      <td>0.049663</td>\n",
              "      <td>0.018368</td>\n",
              "      <td>1.665973</td>\n",
              "      <td>0.950249</td>\n",
              "      <td>129</td>\n",
              "      <td>126700</td>\n",
              "      <td>1504.768272</td>\n",
              "      <td>278744.2850</td>\n",
              "      <td>298640</td>\n",
              "      <td>P</td>\n",
              "    </tr>\n",
              "    <tr>\n",
              "      <th>2</th>\n",
              "      <td>id_3</td>\n",
              "      <td>2600</td>\n",
              "      <td>0.000010</td>\n",
              "      <td>229.933997</td>\n",
              "      <td>172.761858</td>\n",
              "      <td>2333</td>\n",
              "      <td>5802</td>\n",
              "      <td>0.387020</td>\n",
              "      <td>0.181342</td>\n",
              "      <td>201.347928</td>\n",
              "      <td>...</td>\n",
              "      <td>0.178194</td>\n",
              "      <td>0.017174</td>\n",
              "      <td>4.000781</td>\n",
              "      <td>2.392521</td>\n",
              "      <td>74</td>\n",
              "      <td>45480</td>\n",
              "      <td>1431.443492</td>\n",
              "      <td>144411.7055</td>\n",
              "      <td>79025</td>\n",
              "      <td>P</td>\n",
              "    </tr>\n",
              "    <tr>\n",
              "      <th>3</th>\n",
              "      <td>id_4</td>\n",
              "      <td>2130</td>\n",
              "      <td>0.000010</td>\n",
              "      <td>369.403342</td>\n",
              "      <td>183.193104</td>\n",
              "      <td>1756</td>\n",
              "      <td>8159</td>\n",
              "      <td>0.556879</td>\n",
              "      <td>0.164502</td>\n",
              "      <td>276.298223</td>\n",
              "      <td>...</td>\n",
              "      <td>0.113905</td>\n",
              "      <td>0.019860</td>\n",
              "      <td>4.206746</td>\n",
              "      <td>1.613522</td>\n",
              "      <td>123</td>\n",
              "      <td>67945</td>\n",
              "      <td>1465.843329</td>\n",
              "      <td>230184.7154</td>\n",
              "      <td>181220</td>\n",
              "      <td>P</td>\n",
              "    </tr>\n",
              "    <tr>\n",
              "      <th>4</th>\n",
              "      <td>id_5</td>\n",
              "      <td>2310</td>\n",
              "      <td>0.000007</td>\n",
              "      <td>257.997131</td>\n",
              "      <td>111.275889</td>\n",
              "      <td>987</td>\n",
              "      <td>4732</td>\n",
              "      <td>0.266077</td>\n",
              "      <td>0.145104</td>\n",
              "      <td>184.636510</td>\n",
              "      <td>...</td>\n",
              "      <td>0.121782</td>\n",
              "      <td>0.020872</td>\n",
              "      <td>3.319036</td>\n",
              "      <td>1.680629</td>\n",
              "      <td>92</td>\n",
              "      <td>37285</td>\n",
              "      <td>1841.702561</td>\n",
              "      <td>158290.0255</td>\n",
              "      <td>72575</td>\n",
              "      <td>P</td>\n",
              "    </tr>\n",
              "  </tbody>\n",
              "</table>\n",
              "<p>5 rows × 452 columns</p>\n",
              "</div>\n",
              "      <button class=\"colab-df-convert\" onclick=\"convertToInteractive('df-3a5cbc4b-e6f9-412e-89f9-d484e6f17e71')\"\n",
              "              title=\"Convert this dataframe to an interactive table.\"\n",
              "              style=\"display:none;\">\n",
              "        \n",
              "  <svg xmlns=\"http://www.w3.org/2000/svg\" height=\"24px\"viewBox=\"0 0 24 24\"\n",
              "       width=\"24px\">\n",
              "    <path d=\"M0 0h24v24H0V0z\" fill=\"none\"/>\n",
              "    <path d=\"M18.56 5.44l.94 2.06.94-2.06 2.06-.94-2.06-.94-.94-2.06-.94 2.06-2.06.94zm-11 1L8.5 8.5l.94-2.06 2.06-.94-2.06-.94L8.5 2.5l-.94 2.06-2.06.94zm10 10l.94 2.06.94-2.06 2.06-.94-2.06-.94-.94-2.06-.94 2.06-2.06.94z\"/><path d=\"M17.41 7.96l-1.37-1.37c-.4-.4-.92-.59-1.43-.59-.52 0-1.04.2-1.43.59L10.3 9.45l-7.72 7.72c-.78.78-.78 2.05 0 2.83L4 21.41c.39.39.9.59 1.41.59.51 0 1.02-.2 1.41-.59l7.78-7.78 2.81-2.81c.8-.78.8-2.07 0-2.86zM5.41 20L4 18.59l7.72-7.72 1.47 1.35L5.41 20z\"/>\n",
              "  </svg>\n",
              "      </button>\n",
              "      \n",
              "  <style>\n",
              "    .colab-df-container {\n",
              "      display:flex;\n",
              "      flex-wrap:wrap;\n",
              "      gap: 12px;\n",
              "    }\n",
              "\n",
              "    .colab-df-convert {\n",
              "      background-color: #E8F0FE;\n",
              "      border: none;\n",
              "      border-radius: 50%;\n",
              "      cursor: pointer;\n",
              "      display: none;\n",
              "      fill: #1967D2;\n",
              "      height: 32px;\n",
              "      padding: 0 0 0 0;\n",
              "      width: 32px;\n",
              "    }\n",
              "\n",
              "    .colab-df-convert:hover {\n",
              "      background-color: #E2EBFA;\n",
              "      box-shadow: 0px 1px 2px rgba(60, 64, 67, 0.3), 0px 1px 3px 1px rgba(60, 64, 67, 0.15);\n",
              "      fill: #174EA6;\n",
              "    }\n",
              "\n",
              "    [theme=dark] .colab-df-convert {\n",
              "      background-color: #3B4455;\n",
              "      fill: #D2E3FC;\n",
              "    }\n",
              "\n",
              "    [theme=dark] .colab-df-convert:hover {\n",
              "      background-color: #434B5C;\n",
              "      box-shadow: 0px 1px 3px 1px rgba(0, 0, 0, 0.15);\n",
              "      filter: drop-shadow(0px 1px 2px rgba(0, 0, 0, 0.3));\n",
              "      fill: #FFFFFF;\n",
              "    }\n",
              "  </style>\n",
              "\n",
              "      <script>\n",
              "        const buttonEl =\n",
              "          document.querySelector('#df-3a5cbc4b-e6f9-412e-89f9-d484e6f17e71 button.colab-df-convert');\n",
              "        buttonEl.style.display =\n",
              "          google.colab.kernel.accessAllowed ? 'block' : 'none';\n",
              "\n",
              "        async function convertToInteractive(key) {\n",
              "          const element = document.querySelector('#df-3a5cbc4b-e6f9-412e-89f9-d484e6f17e71');\n",
              "          const dataTable =\n",
              "            await google.colab.kernel.invokeFunction('convertToInteractive',\n",
              "                                                     [key], {});\n",
              "          if (!dataTable) return;\n",
              "\n",
              "          const docLinkHtml = 'Like what you see? Visit the ' +\n",
              "            '<a target=\"_blank\" href=https://colab.research.google.com/notebooks/data_table.ipynb>data table notebook</a>'\n",
              "            + ' to learn more about interactive tables.';\n",
              "          element.innerHTML = '';\n",
              "          dataTable['output_type'] = 'display_data';\n",
              "          await google.colab.output.renderOutput(dataTable, element);\n",
              "          const docLink = document.createElement('div');\n",
              "          docLink.innerHTML = docLinkHtml;\n",
              "          element.appendChild(docLink);\n",
              "        }\n",
              "      </script>\n",
              "    </div>\n",
              "  </div>\n",
              "  "
            ]
          },
          "metadata": {},
          "execution_count": 3
        }
      ],
      "source": [
        "df.head()"
      ]
    },
    {
      "cell_type": "code",
      "execution_count": null,
      "metadata": {
        "id": "iyfTEMr0DANO",
        "colab": {
          "base_uri": "https://localhost:8080/",
          "height": 456
        },
        "outputId": "e0ba7cd9-c986-4689-b4ff-b261474236da"
      },
      "outputs": [
        {
          "output_type": "execute_result",
          "data": {
            "text/plain": [
              "         ID  air_time1  disp_index1  gmrt_in_air1  gmrt_on_paper1  \\\n",
              "121  id_122       2100     0.000012    404.170137      211.309053   \n",
              "41    id_42       2005     0.000010    174.435893      158.661271   \n",
              "119  id_120       2130     0.000012    247.164438      134.716040   \n",
              "104  id_105        400     0.000005    626.609140      865.210522   \n",
              "112  id_113       5880     0.000007    167.703955      332.126873   \n",
              "103  id_104       4375     0.000002     90.667148      243.484916   \n",
              "68    id_69       4485     0.000023    184.059179      145.582218   \n",
              "25    id_26       2915     0.000010    202.945687      172.225169   \n",
              "114  id_115        345     0.000012    556.505801      193.256525   \n",
              "28    id_29       4115     0.000008    177.294869      103.118202   \n",
              "\n",
              "     max_x_extension1  max_y_extension1  mean_acc_in_air1  mean_acc_on_paper1  \\\n",
              "121              2309             10623          0.431940            0.170658   \n",
              "41               1798              5962          0.209676            0.125318   \n",
              "119              1410              9349          0.302152            0.138342   \n",
              "104              5104              8977          0.690558            0.627350   \n",
              "112              1402              5626          0.339520            0.250085   \n",
              "103              1550              1137          0.313019            0.177252   \n",
              "68               5377             10986          0.669509            0.263163   \n",
              "25               1296              6818          0.219212            0.146434   \n",
              "114              2191              7860          0.317984            0.149155   \n",
              "28               1257              4903          0.570892            0.160674   \n",
              "\n",
              "     mean_gmrt1  ...  mean_jerk_in_air25  mean_jerk_on_paper25  \\\n",
              "121  307.739595  ...            0.124843              0.022611   \n",
              "41   166.548582  ...            0.137580              0.019412   \n",
              "119  190.940239  ...            0.072517              0.022080   \n",
              "104  745.909831  ...            0.207388              0.017907   \n",
              "112  249.915414  ...            0.285546              0.019066   \n",
              "103  167.076032  ...            0.244797              0.021494   \n",
              "68   164.820698  ...            0.111333              0.022768   \n",
              "25   187.585428  ...            0.056777              0.016147   \n",
              "114  374.881163  ...            0.220858              0.021177   \n",
              "28   140.206535  ...            0.133040              0.017024   \n",
              "\n",
              "     mean_speed_in_air25  mean_speed_on_paper25  num_of_pendown25  \\\n",
              "121             4.172903               2.484898               119   \n",
              "41              4.593336               4.676877                79   \n",
              "119             2.675483               1.420393               119   \n",
              "104             5.456277               2.693005                69   \n",
              "112             6.945456               3.629327                39   \n",
              "103             6.421632               4.540908                58   \n",
              "68              3.312193               1.531349                82   \n",
              "25              1.915654               1.895614                88   \n",
              "114             6.611603               4.243341                65   \n",
              "28              3.351319               2.769629                82   \n",
              "\n",
              "     paper_time25  pressure_mean25  pressure_var25  total_time25  class  \n",
              "121         32735      1849.560715    163720.12260         69575      H  \n",
              "41          38670      1357.563486    121864.44040         88000      P  \n",
              "119         42800      1692.879556    212677.05990        114405      H  \n",
              "104         41645      1425.089326    165224.08860         66590      H  \n",
              "112         30835      1933.080104     86695.58820         43805      H  \n",
              "103         26125      1837.481914    118930.38750         47325      H  \n",
              "68          37325      1535.488547    155439.71160        372325      P  \n",
              "25          50805      1412.871469    202272.66730         94505      P  \n",
              "114         33475      1911.355937     87703.48361         63630      H  \n",
              "28          33765       626.638087     73347.34392         81715      P  \n",
              "\n",
              "[10 rows x 452 columns]"
            ],
            "text/html": [
              "\n",
              "  <div id=\"df-6b48cdc4-69a9-4da4-8e65-9499fb745293\">\n",
              "    <div class=\"colab-df-container\">\n",
              "      <div>\n",
              "<style scoped>\n",
              "    .dataframe tbody tr th:only-of-type {\n",
              "        vertical-align: middle;\n",
              "    }\n",
              "\n",
              "    .dataframe tbody tr th {\n",
              "        vertical-align: top;\n",
              "    }\n",
              "\n",
              "    .dataframe thead th {\n",
              "        text-align: right;\n",
              "    }\n",
              "</style>\n",
              "<table border=\"1\" class=\"dataframe\">\n",
              "  <thead>\n",
              "    <tr style=\"text-align: right;\">\n",
              "      <th></th>\n",
              "      <th>ID</th>\n",
              "      <th>air_time1</th>\n",
              "      <th>disp_index1</th>\n",
              "      <th>gmrt_in_air1</th>\n",
              "      <th>gmrt_on_paper1</th>\n",
              "      <th>max_x_extension1</th>\n",
              "      <th>max_y_extension1</th>\n",
              "      <th>mean_acc_in_air1</th>\n",
              "      <th>mean_acc_on_paper1</th>\n",
              "      <th>mean_gmrt1</th>\n",
              "      <th>...</th>\n",
              "      <th>mean_jerk_in_air25</th>\n",
              "      <th>mean_jerk_on_paper25</th>\n",
              "      <th>mean_speed_in_air25</th>\n",
              "      <th>mean_speed_on_paper25</th>\n",
              "      <th>num_of_pendown25</th>\n",
              "      <th>paper_time25</th>\n",
              "      <th>pressure_mean25</th>\n",
              "      <th>pressure_var25</th>\n",
              "      <th>total_time25</th>\n",
              "      <th>class</th>\n",
              "    </tr>\n",
              "  </thead>\n",
              "  <tbody>\n",
              "    <tr>\n",
              "      <th>121</th>\n",
              "      <td>id_122</td>\n",
              "      <td>2100</td>\n",
              "      <td>0.000012</td>\n",
              "      <td>404.170137</td>\n",
              "      <td>211.309053</td>\n",
              "      <td>2309</td>\n",
              "      <td>10623</td>\n",
              "      <td>0.431940</td>\n",
              "      <td>0.170658</td>\n",
              "      <td>307.739595</td>\n",
              "      <td>...</td>\n",
              "      <td>0.124843</td>\n",
              "      <td>0.022611</td>\n",
              "      <td>4.172903</td>\n",
              "      <td>2.484898</td>\n",
              "      <td>119</td>\n",
              "      <td>32735</td>\n",
              "      <td>1849.560715</td>\n",
              "      <td>163720.12260</td>\n",
              "      <td>69575</td>\n",
              "      <td>H</td>\n",
              "    </tr>\n",
              "    <tr>\n",
              "      <th>41</th>\n",
              "      <td>id_42</td>\n",
              "      <td>2005</td>\n",
              "      <td>0.000010</td>\n",
              "      <td>174.435893</td>\n",
              "      <td>158.661271</td>\n",
              "      <td>1798</td>\n",
              "      <td>5962</td>\n",
              "      <td>0.209676</td>\n",
              "      <td>0.125318</td>\n",
              "      <td>166.548582</td>\n",
              "      <td>...</td>\n",
              "      <td>0.137580</td>\n",
              "      <td>0.019412</td>\n",
              "      <td>4.593336</td>\n",
              "      <td>4.676877</td>\n",
              "      <td>79</td>\n",
              "      <td>38670</td>\n",
              "      <td>1357.563486</td>\n",
              "      <td>121864.44040</td>\n",
              "      <td>88000</td>\n",
              "      <td>P</td>\n",
              "    </tr>\n",
              "    <tr>\n",
              "      <th>119</th>\n",
              "      <td>id_120</td>\n",
              "      <td>2130</td>\n",
              "      <td>0.000012</td>\n",
              "      <td>247.164438</td>\n",
              "      <td>134.716040</td>\n",
              "      <td>1410</td>\n",
              "      <td>9349</td>\n",
              "      <td>0.302152</td>\n",
              "      <td>0.138342</td>\n",
              "      <td>190.940239</td>\n",
              "      <td>...</td>\n",
              "      <td>0.072517</td>\n",
              "      <td>0.022080</td>\n",
              "      <td>2.675483</td>\n",
              "      <td>1.420393</td>\n",
              "      <td>119</td>\n",
              "      <td>42800</td>\n",
              "      <td>1692.879556</td>\n",
              "      <td>212677.05990</td>\n",
              "      <td>114405</td>\n",
              "      <td>H</td>\n",
              "    </tr>\n",
              "    <tr>\n",
              "      <th>104</th>\n",
              "      <td>id_105</td>\n",
              "      <td>400</td>\n",
              "      <td>0.000005</td>\n",
              "      <td>626.609140</td>\n",
              "      <td>865.210522</td>\n",
              "      <td>5104</td>\n",
              "      <td>8977</td>\n",
              "      <td>0.690558</td>\n",
              "      <td>0.627350</td>\n",
              "      <td>745.909831</td>\n",
              "      <td>...</td>\n",
              "      <td>0.207388</td>\n",
              "      <td>0.017907</td>\n",
              "      <td>5.456277</td>\n",
              "      <td>2.693005</td>\n",
              "      <td>69</td>\n",
              "      <td>41645</td>\n",
              "      <td>1425.089326</td>\n",
              "      <td>165224.08860</td>\n",
              "      <td>66590</td>\n",
              "      <td>H</td>\n",
              "    </tr>\n",
              "    <tr>\n",
              "      <th>112</th>\n",
              "      <td>id_113</td>\n",
              "      <td>5880</td>\n",
              "      <td>0.000007</td>\n",
              "      <td>167.703955</td>\n",
              "      <td>332.126873</td>\n",
              "      <td>1402</td>\n",
              "      <td>5626</td>\n",
              "      <td>0.339520</td>\n",
              "      <td>0.250085</td>\n",
              "      <td>249.915414</td>\n",
              "      <td>...</td>\n",
              "      <td>0.285546</td>\n",
              "      <td>0.019066</td>\n",
              "      <td>6.945456</td>\n",
              "      <td>3.629327</td>\n",
              "      <td>39</td>\n",
              "      <td>30835</td>\n",
              "      <td>1933.080104</td>\n",
              "      <td>86695.58820</td>\n",
              "      <td>43805</td>\n",
              "      <td>H</td>\n",
              "    </tr>\n",
              "    <tr>\n",
              "      <th>103</th>\n",
              "      <td>id_104</td>\n",
              "      <td>4375</td>\n",
              "      <td>0.000002</td>\n",
              "      <td>90.667148</td>\n",
              "      <td>243.484916</td>\n",
              "      <td>1550</td>\n",
              "      <td>1137</td>\n",
              "      <td>0.313019</td>\n",
              "      <td>0.177252</td>\n",
              "      <td>167.076032</td>\n",
              "      <td>...</td>\n",
              "      <td>0.244797</td>\n",
              "      <td>0.021494</td>\n",
              "      <td>6.421632</td>\n",
              "      <td>4.540908</td>\n",
              "      <td>58</td>\n",
              "      <td>26125</td>\n",
              "      <td>1837.481914</td>\n",
              "      <td>118930.38750</td>\n",
              "      <td>47325</td>\n",
              "      <td>H</td>\n",
              "    </tr>\n",
              "    <tr>\n",
              "      <th>68</th>\n",
              "      <td>id_69</td>\n",
              "      <td>4485</td>\n",
              "      <td>0.000023</td>\n",
              "      <td>184.059179</td>\n",
              "      <td>145.582218</td>\n",
              "      <td>5377</td>\n",
              "      <td>10986</td>\n",
              "      <td>0.669509</td>\n",
              "      <td>0.263163</td>\n",
              "      <td>164.820698</td>\n",
              "      <td>...</td>\n",
              "      <td>0.111333</td>\n",
              "      <td>0.022768</td>\n",
              "      <td>3.312193</td>\n",
              "      <td>1.531349</td>\n",
              "      <td>82</td>\n",
              "      <td>37325</td>\n",
              "      <td>1535.488547</td>\n",
              "      <td>155439.71160</td>\n",
              "      <td>372325</td>\n",
              "      <td>P</td>\n",
              "    </tr>\n",
              "    <tr>\n",
              "      <th>25</th>\n",
              "      <td>id_26</td>\n",
              "      <td>2915</td>\n",
              "      <td>0.000010</td>\n",
              "      <td>202.945687</td>\n",
              "      <td>172.225169</td>\n",
              "      <td>1296</td>\n",
              "      <td>6818</td>\n",
              "      <td>0.219212</td>\n",
              "      <td>0.146434</td>\n",
              "      <td>187.585428</td>\n",
              "      <td>...</td>\n",
              "      <td>0.056777</td>\n",
              "      <td>0.016147</td>\n",
              "      <td>1.915654</td>\n",
              "      <td>1.895614</td>\n",
              "      <td>88</td>\n",
              "      <td>50805</td>\n",
              "      <td>1412.871469</td>\n",
              "      <td>202272.66730</td>\n",
              "      <td>94505</td>\n",
              "      <td>P</td>\n",
              "    </tr>\n",
              "    <tr>\n",
              "      <th>114</th>\n",
              "      <td>id_115</td>\n",
              "      <td>345</td>\n",
              "      <td>0.000012</td>\n",
              "      <td>556.505801</td>\n",
              "      <td>193.256525</td>\n",
              "      <td>2191</td>\n",
              "      <td>7860</td>\n",
              "      <td>0.317984</td>\n",
              "      <td>0.149155</td>\n",
              "      <td>374.881163</td>\n",
              "      <td>...</td>\n",
              "      <td>0.220858</td>\n",
              "      <td>0.021177</td>\n",
              "      <td>6.611603</td>\n",
              "      <td>4.243341</td>\n",
              "      <td>65</td>\n",
              "      <td>33475</td>\n",
              "      <td>1911.355937</td>\n",
              "      <td>87703.48361</td>\n",
              "      <td>63630</td>\n",
              "      <td>H</td>\n",
              "    </tr>\n",
              "    <tr>\n",
              "      <th>28</th>\n",
              "      <td>id_29</td>\n",
              "      <td>4115</td>\n",
              "      <td>0.000008</td>\n",
              "      <td>177.294869</td>\n",
              "      <td>103.118202</td>\n",
              "      <td>1257</td>\n",
              "      <td>4903</td>\n",
              "      <td>0.570892</td>\n",
              "      <td>0.160674</td>\n",
              "      <td>140.206535</td>\n",
              "      <td>...</td>\n",
              "      <td>0.133040</td>\n",
              "      <td>0.017024</td>\n",
              "      <td>3.351319</td>\n",
              "      <td>2.769629</td>\n",
              "      <td>82</td>\n",
              "      <td>33765</td>\n",
              "      <td>626.638087</td>\n",
              "      <td>73347.34392</td>\n",
              "      <td>81715</td>\n",
              "      <td>P</td>\n",
              "    </tr>\n",
              "  </tbody>\n",
              "</table>\n",
              "<p>10 rows × 452 columns</p>\n",
              "</div>\n",
              "      <button class=\"colab-df-convert\" onclick=\"convertToInteractive('df-6b48cdc4-69a9-4da4-8e65-9499fb745293')\"\n",
              "              title=\"Convert this dataframe to an interactive table.\"\n",
              "              style=\"display:none;\">\n",
              "        \n",
              "  <svg xmlns=\"http://www.w3.org/2000/svg\" height=\"24px\"viewBox=\"0 0 24 24\"\n",
              "       width=\"24px\">\n",
              "    <path d=\"M0 0h24v24H0V0z\" fill=\"none\"/>\n",
              "    <path d=\"M18.56 5.44l.94 2.06.94-2.06 2.06-.94-2.06-.94-.94-2.06-.94 2.06-2.06.94zm-11 1L8.5 8.5l.94-2.06 2.06-.94-2.06-.94L8.5 2.5l-.94 2.06-2.06.94zm10 10l.94 2.06.94-2.06 2.06-.94-2.06-.94-.94-2.06-.94 2.06-2.06.94z\"/><path d=\"M17.41 7.96l-1.37-1.37c-.4-.4-.92-.59-1.43-.59-.52 0-1.04.2-1.43.59L10.3 9.45l-7.72 7.72c-.78.78-.78 2.05 0 2.83L4 21.41c.39.39.9.59 1.41.59.51 0 1.02-.2 1.41-.59l7.78-7.78 2.81-2.81c.8-.78.8-2.07 0-2.86zM5.41 20L4 18.59l7.72-7.72 1.47 1.35L5.41 20z\"/>\n",
              "  </svg>\n",
              "      </button>\n",
              "      \n",
              "  <style>\n",
              "    .colab-df-container {\n",
              "      display:flex;\n",
              "      flex-wrap:wrap;\n",
              "      gap: 12px;\n",
              "    }\n",
              "\n",
              "    .colab-df-convert {\n",
              "      background-color: #E8F0FE;\n",
              "      border: none;\n",
              "      border-radius: 50%;\n",
              "      cursor: pointer;\n",
              "      display: none;\n",
              "      fill: #1967D2;\n",
              "      height: 32px;\n",
              "      padding: 0 0 0 0;\n",
              "      width: 32px;\n",
              "    }\n",
              "\n",
              "    .colab-df-convert:hover {\n",
              "      background-color: #E2EBFA;\n",
              "      box-shadow: 0px 1px 2px rgba(60, 64, 67, 0.3), 0px 1px 3px 1px rgba(60, 64, 67, 0.15);\n",
              "      fill: #174EA6;\n",
              "    }\n",
              "\n",
              "    [theme=dark] .colab-df-convert {\n",
              "      background-color: #3B4455;\n",
              "      fill: #D2E3FC;\n",
              "    }\n",
              "\n",
              "    [theme=dark] .colab-df-convert:hover {\n",
              "      background-color: #434B5C;\n",
              "      box-shadow: 0px 1px 3px 1px rgba(0, 0, 0, 0.15);\n",
              "      filter: drop-shadow(0px 1px 2px rgba(0, 0, 0, 0.3));\n",
              "      fill: #FFFFFF;\n",
              "    }\n",
              "  </style>\n",
              "\n",
              "      <script>\n",
              "        const buttonEl =\n",
              "          document.querySelector('#df-6b48cdc4-69a9-4da4-8e65-9499fb745293 button.colab-df-convert');\n",
              "        buttonEl.style.display =\n",
              "          google.colab.kernel.accessAllowed ? 'block' : 'none';\n",
              "\n",
              "        async function convertToInteractive(key) {\n",
              "          const element = document.querySelector('#df-6b48cdc4-69a9-4da4-8e65-9499fb745293');\n",
              "          const dataTable =\n",
              "            await google.colab.kernel.invokeFunction('convertToInteractive',\n",
              "                                                     [key], {});\n",
              "          if (!dataTable) return;\n",
              "\n",
              "          const docLinkHtml = 'Like what you see? Visit the ' +\n",
              "            '<a target=\"_blank\" href=https://colab.research.google.com/notebooks/data_table.ipynb>data table notebook</a>'\n",
              "            + ' to learn more about interactive tables.';\n",
              "          element.innerHTML = '';\n",
              "          dataTable['output_type'] = 'display_data';\n",
              "          await google.colab.output.renderOutput(dataTable, element);\n",
              "          const docLink = document.createElement('div');\n",
              "          docLink.innerHTML = docLinkHtml;\n",
              "          element.appendChild(docLink);\n",
              "        }\n",
              "      </script>\n",
              "    </div>\n",
              "  </div>\n",
              "  "
            ]
          },
          "metadata": {},
          "execution_count": 4
        }
      ],
      "source": [
        "df.sample(10)"
      ]
    },
    {
      "cell_type": "code",
      "execution_count": null,
      "metadata": {
        "id": "qSAEZzw2DCiD",
        "colab": {
          "base_uri": "https://localhost:8080/"
        },
        "outputId": "5c1c6f19-1871-43eb-8827-7b7fa65c4521"
      },
      "outputs": [
        {
          "output_type": "stream",
          "name": "stdout",
          "text": [
            "<class 'pandas.core.frame.DataFrame'>\n",
            "RangeIndex: 174 entries, 0 to 173\n",
            "Columns: 452 entries, ID to class\n",
            "dtypes: float64(300), int64(150), object(2)\n",
            "memory usage: 614.6+ KB\n"
          ]
        }
      ],
      "source": [
        "df.info()"
      ]
    },
    {
      "cell_type": "code",
      "execution_count": null,
      "metadata": {
        "id": "wjHlH9qzDKKQ",
        "colab": {
          "base_uri": "https://localhost:8080/",
          "height": 488
        },
        "outputId": "47ef5902-a6c4-4c9a-eaab-91789908c536"
      },
      "outputs": [
        {
          "output_type": "execute_result",
          "data": {
            "text/plain": [
              "          ID      air_time1  disp_index1  gmrt_in_air1  gmrt_on_paper1  \\\n",
              "count    174     174.000000   174.000000    174.000000      174.000000   \n",
              "unique   174            NaN          NaN           NaN             NaN   \n",
              "top     id_1            NaN          NaN           NaN             NaN   \n",
              "freq       1            NaN          NaN           NaN             NaN   \n",
              "mean     NaN    5664.166667     0.000010    297.666685      200.504413   \n",
              "std      NaN   12653.772746     0.000003    183.943181      111.629546   \n",
              "min      NaN      65.000000     0.000002     28.734515       29.935835   \n",
              "25%      NaN    1697.500000     0.000008    174.153023      136.524742   \n",
              "50%      NaN    2890.000000     0.000009    255.791452      176.494494   \n",
              "75%      NaN    4931.250000     0.000011    358.917885      234.052560   \n",
              "max      NaN  109965.000000     0.000028   1168.328276      865.210522   \n",
              "\n",
              "        max_x_extension1  max_y_extension1  mean_acc_in_air1  \\\n",
              "count         174.000000        174.000000        174.000000   \n",
              "unique               NaN               NaN               NaN   \n",
              "top                  NaN               NaN               NaN   \n",
              "freq                 NaN               NaN               NaN   \n",
              "mean         1977.965517       7323.896552          0.416374   \n",
              "std          1648.306365       2188.290512          0.381837   \n",
              "min           754.000000        561.000000          0.067748   \n",
              "25%          1362.500000       6124.000000          0.218209   \n",
              "50%          1681.000000       6975.500000          0.275184   \n",
              "75%          2082.750000       8298.500000          0.442706   \n",
              "max         18602.000000      15783.000000          2.772566   \n",
              "\n",
              "        mean_acc_on_paper1  mean_gmrt1  ...  mean_jerk_in_air25  \\\n",
              "count           174.000000  174.000000  ...          174.000000   \n",
              "unique                 NaN         NaN  ...                 NaN   \n",
              "top                    NaN         NaN  ...                 NaN   \n",
              "freq                   NaN         NaN  ...                 NaN   \n",
              "mean              0.179823  249.085549  ...            0.148286   \n",
              "std               0.064693  132.698462  ...            0.062207   \n",
              "min               0.096631   41.199445  ...            0.030169   \n",
              "25%               0.146647  161.136182  ...            0.107732   \n",
              "50%               0.163659  224.445268  ...            0.140483   \n",
              "75%               0.188879  294.392298  ...            0.199168   \n",
              "max               0.627350  836.784702  ...            0.375078   \n",
              "\n",
              "        mean_jerk_on_paper25  mean_speed_in_air25  mean_speed_on_paper25  \\\n",
              "count             174.000000           174.000000             174.000000   \n",
              "unique                   NaN                  NaN                    NaN   \n",
              "top                      NaN                  NaN                    NaN   \n",
              "freq                     NaN                  NaN                    NaN   \n",
              "mean                0.019934             4.472643               2.871613   \n",
              "std                 0.002388             1.501411               0.852809   \n",
              "min                 0.014987             1.323565               0.950249   \n",
              "25%                 0.018301             3.485934               2.401199   \n",
              "50%                 0.019488             4.510578               2.830672   \n",
              "75%                 0.021134             5.212794               3.335828   \n",
              "max                 0.029227            10.416715               5.602909   \n",
              "\n",
              "        num_of_pendown25   paper_time25  pressure_mean25  pressure_var25  \\\n",
              "count         174.000000     174.000000       174.000000      174.000000   \n",
              "unique               NaN            NaN              NaN             NaN   \n",
              "top                  NaN            NaN              NaN             NaN   \n",
              "freq                 NaN            NaN              NaN             NaN   \n",
              "mean           85.839080   43109.712644      1629.585962   163061.767360   \n",
              "std            27.485518   19092.024337       324.142316    56845.610814   \n",
              "min            32.000000   15930.000000       474.049462    26984.926660   \n",
              "25%            66.000000   32803.750000      1499.112088   120099.046800   \n",
              "50%            81.000000   37312.500000      1729.385010   158236.771800   \n",
              "75%           101.500000   46533.750000      1865.626974   200921.078475   \n",
              "max           209.000000  139575.000000      1999.775983   352981.850000   \n",
              "\n",
              "        total_time25  class  \n",
              "count   1.740000e+02    174  \n",
              "unique           NaN      2  \n",
              "top              NaN      P  \n",
              "freq             NaN     89  \n",
              "mean    1.642033e+05    NaN  \n",
              "std     4.969397e+05    NaN  \n",
              "min     2.998000e+04    NaN  \n",
              "25%     5.917500e+04    NaN  \n",
              "50%     7.611500e+04    NaN  \n",
              "75%     1.275425e+05    NaN  \n",
              "max     5.704200e+06    NaN  \n",
              "\n",
              "[11 rows x 452 columns]"
            ],
            "text/html": [
              "\n",
              "  <div id=\"df-2086af17-2cfc-48ca-a88e-f6ccbc5db217\">\n",
              "    <div class=\"colab-df-container\">\n",
              "      <div>\n",
              "<style scoped>\n",
              "    .dataframe tbody tr th:only-of-type {\n",
              "        vertical-align: middle;\n",
              "    }\n",
              "\n",
              "    .dataframe tbody tr th {\n",
              "        vertical-align: top;\n",
              "    }\n",
              "\n",
              "    .dataframe thead th {\n",
              "        text-align: right;\n",
              "    }\n",
              "</style>\n",
              "<table border=\"1\" class=\"dataframe\">\n",
              "  <thead>\n",
              "    <tr style=\"text-align: right;\">\n",
              "      <th></th>\n",
              "      <th>ID</th>\n",
              "      <th>air_time1</th>\n",
              "      <th>disp_index1</th>\n",
              "      <th>gmrt_in_air1</th>\n",
              "      <th>gmrt_on_paper1</th>\n",
              "      <th>max_x_extension1</th>\n",
              "      <th>max_y_extension1</th>\n",
              "      <th>mean_acc_in_air1</th>\n",
              "      <th>mean_acc_on_paper1</th>\n",
              "      <th>mean_gmrt1</th>\n",
              "      <th>...</th>\n",
              "      <th>mean_jerk_in_air25</th>\n",
              "      <th>mean_jerk_on_paper25</th>\n",
              "      <th>mean_speed_in_air25</th>\n",
              "      <th>mean_speed_on_paper25</th>\n",
              "      <th>num_of_pendown25</th>\n",
              "      <th>paper_time25</th>\n",
              "      <th>pressure_mean25</th>\n",
              "      <th>pressure_var25</th>\n",
              "      <th>total_time25</th>\n",
              "      <th>class</th>\n",
              "    </tr>\n",
              "  </thead>\n",
              "  <tbody>\n",
              "    <tr>\n",
              "      <th>count</th>\n",
              "      <td>174</td>\n",
              "      <td>174.000000</td>\n",
              "      <td>174.000000</td>\n",
              "      <td>174.000000</td>\n",
              "      <td>174.000000</td>\n",
              "      <td>174.000000</td>\n",
              "      <td>174.000000</td>\n",
              "      <td>174.000000</td>\n",
              "      <td>174.000000</td>\n",
              "      <td>174.000000</td>\n",
              "      <td>...</td>\n",
              "      <td>174.000000</td>\n",
              "      <td>174.000000</td>\n",
              "      <td>174.000000</td>\n",
              "      <td>174.000000</td>\n",
              "      <td>174.000000</td>\n",
              "      <td>174.000000</td>\n",
              "      <td>174.000000</td>\n",
              "      <td>174.000000</td>\n",
              "      <td>1.740000e+02</td>\n",
              "      <td>174</td>\n",
              "    </tr>\n",
              "    <tr>\n",
              "      <th>unique</th>\n",
              "      <td>174</td>\n",
              "      <td>NaN</td>\n",
              "      <td>NaN</td>\n",
              "      <td>NaN</td>\n",
              "      <td>NaN</td>\n",
              "      <td>NaN</td>\n",
              "      <td>NaN</td>\n",
              "      <td>NaN</td>\n",
              "      <td>NaN</td>\n",
              "      <td>NaN</td>\n",
              "      <td>...</td>\n",
              "      <td>NaN</td>\n",
              "      <td>NaN</td>\n",
              "      <td>NaN</td>\n",
              "      <td>NaN</td>\n",
              "      <td>NaN</td>\n",
              "      <td>NaN</td>\n",
              "      <td>NaN</td>\n",
              "      <td>NaN</td>\n",
              "      <td>NaN</td>\n",
              "      <td>2</td>\n",
              "    </tr>\n",
              "    <tr>\n",
              "      <th>top</th>\n",
              "      <td>id_1</td>\n",
              "      <td>NaN</td>\n",
              "      <td>NaN</td>\n",
              "      <td>NaN</td>\n",
              "      <td>NaN</td>\n",
              "      <td>NaN</td>\n",
              "      <td>NaN</td>\n",
              "      <td>NaN</td>\n",
              "      <td>NaN</td>\n",
              "      <td>NaN</td>\n",
              "      <td>...</td>\n",
              "      <td>NaN</td>\n",
              "      <td>NaN</td>\n",
              "      <td>NaN</td>\n",
              "      <td>NaN</td>\n",
              "      <td>NaN</td>\n",
              "      <td>NaN</td>\n",
              "      <td>NaN</td>\n",
              "      <td>NaN</td>\n",
              "      <td>NaN</td>\n",
              "      <td>P</td>\n",
              "    </tr>\n",
              "    <tr>\n",
              "      <th>freq</th>\n",
              "      <td>1</td>\n",
              "      <td>NaN</td>\n",
              "      <td>NaN</td>\n",
              "      <td>NaN</td>\n",
              "      <td>NaN</td>\n",
              "      <td>NaN</td>\n",
              "      <td>NaN</td>\n",
              "      <td>NaN</td>\n",
              "      <td>NaN</td>\n",
              "      <td>NaN</td>\n",
              "      <td>...</td>\n",
              "      <td>NaN</td>\n",
              "      <td>NaN</td>\n",
              "      <td>NaN</td>\n",
              "      <td>NaN</td>\n",
              "      <td>NaN</td>\n",
              "      <td>NaN</td>\n",
              "      <td>NaN</td>\n",
              "      <td>NaN</td>\n",
              "      <td>NaN</td>\n",
              "      <td>89</td>\n",
              "    </tr>\n",
              "    <tr>\n",
              "      <th>mean</th>\n",
              "      <td>NaN</td>\n",
              "      <td>5664.166667</td>\n",
              "      <td>0.000010</td>\n",
              "      <td>297.666685</td>\n",
              "      <td>200.504413</td>\n",
              "      <td>1977.965517</td>\n",
              "      <td>7323.896552</td>\n",
              "      <td>0.416374</td>\n",
              "      <td>0.179823</td>\n",
              "      <td>249.085549</td>\n",
              "      <td>...</td>\n",
              "      <td>0.148286</td>\n",
              "      <td>0.019934</td>\n",
              "      <td>4.472643</td>\n",
              "      <td>2.871613</td>\n",
              "      <td>85.839080</td>\n",
              "      <td>43109.712644</td>\n",
              "      <td>1629.585962</td>\n",
              "      <td>163061.767360</td>\n",
              "      <td>1.642033e+05</td>\n",
              "      <td>NaN</td>\n",
              "    </tr>\n",
              "    <tr>\n",
              "      <th>std</th>\n",
              "      <td>NaN</td>\n",
              "      <td>12653.772746</td>\n",
              "      <td>0.000003</td>\n",
              "      <td>183.943181</td>\n",
              "      <td>111.629546</td>\n",
              "      <td>1648.306365</td>\n",
              "      <td>2188.290512</td>\n",
              "      <td>0.381837</td>\n",
              "      <td>0.064693</td>\n",
              "      <td>132.698462</td>\n",
              "      <td>...</td>\n",
              "      <td>0.062207</td>\n",
              "      <td>0.002388</td>\n",
              "      <td>1.501411</td>\n",
              "      <td>0.852809</td>\n",
              "      <td>27.485518</td>\n",
              "      <td>19092.024337</td>\n",
              "      <td>324.142316</td>\n",
              "      <td>56845.610814</td>\n",
              "      <td>4.969397e+05</td>\n",
              "      <td>NaN</td>\n",
              "    </tr>\n",
              "    <tr>\n",
              "      <th>min</th>\n",
              "      <td>NaN</td>\n",
              "      <td>65.000000</td>\n",
              "      <td>0.000002</td>\n",
              "      <td>28.734515</td>\n",
              "      <td>29.935835</td>\n",
              "      <td>754.000000</td>\n",
              "      <td>561.000000</td>\n",
              "      <td>0.067748</td>\n",
              "      <td>0.096631</td>\n",
              "      <td>41.199445</td>\n",
              "      <td>...</td>\n",
              "      <td>0.030169</td>\n",
              "      <td>0.014987</td>\n",
              "      <td>1.323565</td>\n",
              "      <td>0.950249</td>\n",
              "      <td>32.000000</td>\n",
              "      <td>15930.000000</td>\n",
              "      <td>474.049462</td>\n",
              "      <td>26984.926660</td>\n",
              "      <td>2.998000e+04</td>\n",
              "      <td>NaN</td>\n",
              "    </tr>\n",
              "    <tr>\n",
              "      <th>25%</th>\n",
              "      <td>NaN</td>\n",
              "      <td>1697.500000</td>\n",
              "      <td>0.000008</td>\n",
              "      <td>174.153023</td>\n",
              "      <td>136.524742</td>\n",
              "      <td>1362.500000</td>\n",
              "      <td>6124.000000</td>\n",
              "      <td>0.218209</td>\n",
              "      <td>0.146647</td>\n",
              "      <td>161.136182</td>\n",
              "      <td>...</td>\n",
              "      <td>0.107732</td>\n",
              "      <td>0.018301</td>\n",
              "      <td>3.485934</td>\n",
              "      <td>2.401199</td>\n",
              "      <td>66.000000</td>\n",
              "      <td>32803.750000</td>\n",
              "      <td>1499.112088</td>\n",
              "      <td>120099.046800</td>\n",
              "      <td>5.917500e+04</td>\n",
              "      <td>NaN</td>\n",
              "    </tr>\n",
              "    <tr>\n",
              "      <th>50%</th>\n",
              "      <td>NaN</td>\n",
              "      <td>2890.000000</td>\n",
              "      <td>0.000009</td>\n",
              "      <td>255.791452</td>\n",
              "      <td>176.494494</td>\n",
              "      <td>1681.000000</td>\n",
              "      <td>6975.500000</td>\n",
              "      <td>0.275184</td>\n",
              "      <td>0.163659</td>\n",
              "      <td>224.445268</td>\n",
              "      <td>...</td>\n",
              "      <td>0.140483</td>\n",
              "      <td>0.019488</td>\n",
              "      <td>4.510578</td>\n",
              "      <td>2.830672</td>\n",
              "      <td>81.000000</td>\n",
              "      <td>37312.500000</td>\n",
              "      <td>1729.385010</td>\n",
              "      <td>158236.771800</td>\n",
              "      <td>7.611500e+04</td>\n",
              "      <td>NaN</td>\n",
              "    </tr>\n",
              "    <tr>\n",
              "      <th>75%</th>\n",
              "      <td>NaN</td>\n",
              "      <td>4931.250000</td>\n",
              "      <td>0.000011</td>\n",
              "      <td>358.917885</td>\n",
              "      <td>234.052560</td>\n",
              "      <td>2082.750000</td>\n",
              "      <td>8298.500000</td>\n",
              "      <td>0.442706</td>\n",
              "      <td>0.188879</td>\n",
              "      <td>294.392298</td>\n",
              "      <td>...</td>\n",
              "      <td>0.199168</td>\n",
              "      <td>0.021134</td>\n",
              "      <td>5.212794</td>\n",
              "      <td>3.335828</td>\n",
              "      <td>101.500000</td>\n",
              "      <td>46533.750000</td>\n",
              "      <td>1865.626974</td>\n",
              "      <td>200921.078475</td>\n",
              "      <td>1.275425e+05</td>\n",
              "      <td>NaN</td>\n",
              "    </tr>\n",
              "    <tr>\n",
              "      <th>max</th>\n",
              "      <td>NaN</td>\n",
              "      <td>109965.000000</td>\n",
              "      <td>0.000028</td>\n",
              "      <td>1168.328276</td>\n",
              "      <td>865.210522</td>\n",
              "      <td>18602.000000</td>\n",
              "      <td>15783.000000</td>\n",
              "      <td>2.772566</td>\n",
              "      <td>0.627350</td>\n",
              "      <td>836.784702</td>\n",
              "      <td>...</td>\n",
              "      <td>0.375078</td>\n",
              "      <td>0.029227</td>\n",
              "      <td>10.416715</td>\n",
              "      <td>5.602909</td>\n",
              "      <td>209.000000</td>\n",
              "      <td>139575.000000</td>\n",
              "      <td>1999.775983</td>\n",
              "      <td>352981.850000</td>\n",
              "      <td>5.704200e+06</td>\n",
              "      <td>NaN</td>\n",
              "    </tr>\n",
              "  </tbody>\n",
              "</table>\n",
              "<p>11 rows × 452 columns</p>\n",
              "</div>\n",
              "      <button class=\"colab-df-convert\" onclick=\"convertToInteractive('df-2086af17-2cfc-48ca-a88e-f6ccbc5db217')\"\n",
              "              title=\"Convert this dataframe to an interactive table.\"\n",
              "              style=\"display:none;\">\n",
              "        \n",
              "  <svg xmlns=\"http://www.w3.org/2000/svg\" height=\"24px\"viewBox=\"0 0 24 24\"\n",
              "       width=\"24px\">\n",
              "    <path d=\"M0 0h24v24H0V0z\" fill=\"none\"/>\n",
              "    <path d=\"M18.56 5.44l.94 2.06.94-2.06 2.06-.94-2.06-.94-.94-2.06-.94 2.06-2.06.94zm-11 1L8.5 8.5l.94-2.06 2.06-.94-2.06-.94L8.5 2.5l-.94 2.06-2.06.94zm10 10l.94 2.06.94-2.06 2.06-.94-2.06-.94-.94-2.06-.94 2.06-2.06.94z\"/><path d=\"M17.41 7.96l-1.37-1.37c-.4-.4-.92-.59-1.43-.59-.52 0-1.04.2-1.43.59L10.3 9.45l-7.72 7.72c-.78.78-.78 2.05 0 2.83L4 21.41c.39.39.9.59 1.41.59.51 0 1.02-.2 1.41-.59l7.78-7.78 2.81-2.81c.8-.78.8-2.07 0-2.86zM5.41 20L4 18.59l7.72-7.72 1.47 1.35L5.41 20z\"/>\n",
              "  </svg>\n",
              "      </button>\n",
              "      \n",
              "  <style>\n",
              "    .colab-df-container {\n",
              "      display:flex;\n",
              "      flex-wrap:wrap;\n",
              "      gap: 12px;\n",
              "    }\n",
              "\n",
              "    .colab-df-convert {\n",
              "      background-color: #E8F0FE;\n",
              "      border: none;\n",
              "      border-radius: 50%;\n",
              "      cursor: pointer;\n",
              "      display: none;\n",
              "      fill: #1967D2;\n",
              "      height: 32px;\n",
              "      padding: 0 0 0 0;\n",
              "      width: 32px;\n",
              "    }\n",
              "\n",
              "    .colab-df-convert:hover {\n",
              "      background-color: #E2EBFA;\n",
              "      box-shadow: 0px 1px 2px rgba(60, 64, 67, 0.3), 0px 1px 3px 1px rgba(60, 64, 67, 0.15);\n",
              "      fill: #174EA6;\n",
              "    }\n",
              "\n",
              "    [theme=dark] .colab-df-convert {\n",
              "      background-color: #3B4455;\n",
              "      fill: #D2E3FC;\n",
              "    }\n",
              "\n",
              "    [theme=dark] .colab-df-convert:hover {\n",
              "      background-color: #434B5C;\n",
              "      box-shadow: 0px 1px 3px 1px rgba(0, 0, 0, 0.15);\n",
              "      filter: drop-shadow(0px 1px 2px rgba(0, 0, 0, 0.3));\n",
              "      fill: #FFFFFF;\n",
              "    }\n",
              "  </style>\n",
              "\n",
              "      <script>\n",
              "        const buttonEl =\n",
              "          document.querySelector('#df-2086af17-2cfc-48ca-a88e-f6ccbc5db217 button.colab-df-convert');\n",
              "        buttonEl.style.display =\n",
              "          google.colab.kernel.accessAllowed ? 'block' : 'none';\n",
              "\n",
              "        async function convertToInteractive(key) {\n",
              "          const element = document.querySelector('#df-2086af17-2cfc-48ca-a88e-f6ccbc5db217');\n",
              "          const dataTable =\n",
              "            await google.colab.kernel.invokeFunction('convertToInteractive',\n",
              "                                                     [key], {});\n",
              "          if (!dataTable) return;\n",
              "\n",
              "          const docLinkHtml = 'Like what you see? Visit the ' +\n",
              "            '<a target=\"_blank\" href=https://colab.research.google.com/notebooks/data_table.ipynb>data table notebook</a>'\n",
              "            + ' to learn more about interactive tables.';\n",
              "          element.innerHTML = '';\n",
              "          dataTable['output_type'] = 'display_data';\n",
              "          await google.colab.output.renderOutput(dataTable, element);\n",
              "          const docLink = document.createElement('div');\n",
              "          docLink.innerHTML = docLinkHtml;\n",
              "          element.appendChild(docLink);\n",
              "        }\n",
              "      </script>\n",
              "    </div>\n",
              "  </div>\n",
              "  "
            ]
          },
          "metadata": {},
          "execution_count": 6
        }
      ],
      "source": [
        "df.describe(include=\"all\")"
      ]
    },
    {
      "cell_type": "code",
      "execution_count": null,
      "metadata": {
        "id": "n3YVinCuDL1W",
        "colab": {
          "base_uri": "https://localhost:8080/"
        },
        "outputId": "02480afd-181d-4c23-eb6b-6b3374a70c55"
      },
      "outputs": [
        {
          "output_type": "execute_result",
          "data": {
            "text/plain": [
              "ID                 0\n",
              "air_time1          0\n",
              "disp_index1        0\n",
              "gmrt_in_air1       0\n",
              "gmrt_on_paper1     0\n",
              "                  ..\n",
              "paper_time25       0\n",
              "pressure_mean25    0\n",
              "pressure_var25     0\n",
              "total_time25       0\n",
              "class              0\n",
              "Length: 452, dtype: int64"
            ]
          },
          "metadata": {},
          "execution_count": 7
        }
      ],
      "source": [
        "df.isnull().sum()"
      ]
    },
    {
      "cell_type": "code",
      "execution_count": null,
      "metadata": {
        "id": "lb4k4BG6DP3C"
      },
      "outputs": [],
      "source": [
        "lr_y = df[\"class\"]\n",
        "lr_X = df.drop([\"class\",\"ID\"],axis=1)"
      ]
    },
    {
      "cell_type": "code",
      "execution_count": null,
      "metadata": {
        "id": "JB16PEWl7Hdh",
        "colab": {
          "base_uri": "https://localhost:8080/"
        },
        "outputId": "b64c14f7-afc9-4691-f545-497ee6c74523"
      },
      "outputs": [
        {
          "output_type": "execute_result",
          "data": {
            "text/plain": [
              "1"
            ]
          },
          "metadata": {},
          "execution_count": 9
        }
      ],
      "source": [
        "lr_y.ndim"
      ]
    },
    {
      "cell_type": "code",
      "execution_count": null,
      "metadata": {
        "id": "oPV_DtsGoUss",
        "colab": {
          "base_uri": "https://localhost:8080/",
          "height": 488
        },
        "outputId": "4298b6fd-31b7-4de3-b220-19abc9da6f4b"
      },
      "outputs": [
        {
          "output_type": "execute_result",
          "data": {
            "text/plain": [
              "     air_time1  disp_index1  gmrt_in_air1  gmrt_on_paper1  max_x_extension1  \\\n",
              "0         5160     0.000013    120.804174       86.853334               957   \n",
              "1        51980     0.000016    115.318238       83.448681              1694   \n",
              "2         2600     0.000010    229.933997      172.761858              2333   \n",
              "3         2130     0.000010    369.403342      183.193104              1756   \n",
              "4         2310     0.000007    257.997131      111.275889               987   \n",
              "..         ...          ...           ...             ...               ...   \n",
              "169       2930     0.000010    241.736477      176.115957              1839   \n",
              "170       2140     0.000009    274.728964      234.495802              2053   \n",
              "171       3830     0.000008    151.536989      171.104693              1287   \n",
              "172       1760     0.000008    289.518195      196.411138              1674   \n",
              "173       2875     0.000008    235.769350      178.208024              1838   \n",
              "\n",
              "     max_y_extension1  mean_acc_in_air1  mean_acc_on_paper1  mean_gmrt1  \\\n",
              "0                6601          0.361800            0.217459  103.828754   \n",
              "1                6998          0.272513            0.144880   99.383459   \n",
              "2                5802          0.387020            0.181342  201.347928   \n",
              "3                8159          0.556879            0.164502  276.298223   \n",
              "4                4732          0.266077            0.145104  184.636510   \n",
              "..                ...               ...                 ...         ...   \n",
              "169              6439          0.253347            0.174663  208.926217   \n",
              "170              8487          0.225537            0.174920  254.612383   \n",
              "171              7352          0.165480            0.161058  161.320841   \n",
              "172              6946          0.518937            0.202613  242.964666   \n",
              "173              6560          0.567311            0.147818  206.988687   \n",
              "\n",
              "     mean_jerk_in_air1  ...  mean_gmrt25  mean_jerk_in_air25  \\\n",
              "0             0.051836  ...   249.729085            0.141434   \n",
              "1             0.039827  ...    77.258394            0.049663   \n",
              "2             0.064220  ...   193.667018            0.178194   \n",
              "3             0.090408  ...   163.065803            0.113905   \n",
              "4             0.037528  ...   147.094679            0.121782   \n",
              "..                 ...  ...          ...                 ...   \n",
              "169           0.032691  ...   200.568126            0.119152   \n",
              "170           0.032059  ...   231.243565            0.174495   \n",
              "171           0.022705  ...   177.935566            0.114472   \n",
              "172           0.090686  ...   177.935566            0.114472   \n",
              "173           0.099555  ...   177.935566            0.114472   \n",
              "\n",
              "     mean_jerk_on_paper25  mean_speed_in_air25  mean_speed_on_paper25  \\\n",
              "0                0.024471             5.596487               3.184589   \n",
              "1                0.018368             1.665973               0.950249   \n",
              "2                0.017174             4.000781               2.392521   \n",
              "3                0.019860             4.206746               1.613522   \n",
              "4                0.020872             3.319036               1.680629   \n",
              "..                    ...                  ...                    ...   \n",
              "169              0.020909             4.508709               2.233198   \n",
              "170              0.017640             4.685573               2.806888   \n",
              "171              0.017194             3.493815               2.510601   \n",
              "172              0.017194             3.493815               2.510601   \n",
              "173              0.017194             3.493815               2.510601   \n",
              "\n",
              "     num_of_pendown25  paper_time25  pressure_mean25  pressure_var25  \\\n",
              "0                  71         40120      1749.278166     296102.7676   \n",
              "1                 129        126700      1504.768272     278744.2850   \n",
              "2                  74         45480      1431.443492     144411.7055   \n",
              "3                 123         67945      1465.843329     230184.7154   \n",
              "4                  92         37285      1841.702561     158290.0255   \n",
              "..                ...           ...              ...             ...   \n",
              "169                96         44545      1798.923336     247448.3108   \n",
              "170                84         37560      1725.619941     160664.6464   \n",
              "171                88         51675      1915.573488     128727.1241   \n",
              "172                88         51675      1915.573488     128727.1241   \n",
              "173                88         51675      1915.573488     128727.1241   \n",
              "\n",
              "     total_time25  \n",
              "0          144605  \n",
              "1          298640  \n",
              "2           79025  \n",
              "3          181220  \n",
              "4           72575  \n",
              "..            ...  \n",
              "169         80335  \n",
              "170        345835  \n",
              "171         83445  \n",
              "172         83445  \n",
              "173         83445  \n",
              "\n",
              "[174 rows x 450 columns]"
            ],
            "text/html": [
              "\n",
              "  <div id=\"df-3a1c1a01-f436-44f8-890c-ca510c4efd34\">\n",
              "    <div class=\"colab-df-container\">\n",
              "      <div>\n",
              "<style scoped>\n",
              "    .dataframe tbody tr th:only-of-type {\n",
              "        vertical-align: middle;\n",
              "    }\n",
              "\n",
              "    .dataframe tbody tr th {\n",
              "        vertical-align: top;\n",
              "    }\n",
              "\n",
              "    .dataframe thead th {\n",
              "        text-align: right;\n",
              "    }\n",
              "</style>\n",
              "<table border=\"1\" class=\"dataframe\">\n",
              "  <thead>\n",
              "    <tr style=\"text-align: right;\">\n",
              "      <th></th>\n",
              "      <th>air_time1</th>\n",
              "      <th>disp_index1</th>\n",
              "      <th>gmrt_in_air1</th>\n",
              "      <th>gmrt_on_paper1</th>\n",
              "      <th>max_x_extension1</th>\n",
              "      <th>max_y_extension1</th>\n",
              "      <th>mean_acc_in_air1</th>\n",
              "      <th>mean_acc_on_paper1</th>\n",
              "      <th>mean_gmrt1</th>\n",
              "      <th>mean_jerk_in_air1</th>\n",
              "      <th>...</th>\n",
              "      <th>mean_gmrt25</th>\n",
              "      <th>mean_jerk_in_air25</th>\n",
              "      <th>mean_jerk_on_paper25</th>\n",
              "      <th>mean_speed_in_air25</th>\n",
              "      <th>mean_speed_on_paper25</th>\n",
              "      <th>num_of_pendown25</th>\n",
              "      <th>paper_time25</th>\n",
              "      <th>pressure_mean25</th>\n",
              "      <th>pressure_var25</th>\n",
              "      <th>total_time25</th>\n",
              "    </tr>\n",
              "  </thead>\n",
              "  <tbody>\n",
              "    <tr>\n",
              "      <th>0</th>\n",
              "      <td>5160</td>\n",
              "      <td>0.000013</td>\n",
              "      <td>120.804174</td>\n",
              "      <td>86.853334</td>\n",
              "      <td>957</td>\n",
              "      <td>6601</td>\n",
              "      <td>0.361800</td>\n",
              "      <td>0.217459</td>\n",
              "      <td>103.828754</td>\n",
              "      <td>0.051836</td>\n",
              "      <td>...</td>\n",
              "      <td>249.729085</td>\n",
              "      <td>0.141434</td>\n",
              "      <td>0.024471</td>\n",
              "      <td>5.596487</td>\n",
              "      <td>3.184589</td>\n",
              "      <td>71</td>\n",
              "      <td>40120</td>\n",
              "      <td>1749.278166</td>\n",
              "      <td>296102.7676</td>\n",
              "      <td>144605</td>\n",
              "    </tr>\n",
              "    <tr>\n",
              "      <th>1</th>\n",
              "      <td>51980</td>\n",
              "      <td>0.000016</td>\n",
              "      <td>115.318238</td>\n",
              "      <td>83.448681</td>\n",
              "      <td>1694</td>\n",
              "      <td>6998</td>\n",
              "      <td>0.272513</td>\n",
              "      <td>0.144880</td>\n",
              "      <td>99.383459</td>\n",
              "      <td>0.039827</td>\n",
              "      <td>...</td>\n",
              "      <td>77.258394</td>\n",
              "      <td>0.049663</td>\n",
              "      <td>0.018368</td>\n",
              "      <td>1.665973</td>\n",
              "      <td>0.950249</td>\n",
              "      <td>129</td>\n",
              "      <td>126700</td>\n",
              "      <td>1504.768272</td>\n",
              "      <td>278744.2850</td>\n",
              "      <td>298640</td>\n",
              "    </tr>\n",
              "    <tr>\n",
              "      <th>2</th>\n",
              "      <td>2600</td>\n",
              "      <td>0.000010</td>\n",
              "      <td>229.933997</td>\n",
              "      <td>172.761858</td>\n",
              "      <td>2333</td>\n",
              "      <td>5802</td>\n",
              "      <td>0.387020</td>\n",
              "      <td>0.181342</td>\n",
              "      <td>201.347928</td>\n",
              "      <td>0.064220</td>\n",
              "      <td>...</td>\n",
              "      <td>193.667018</td>\n",
              "      <td>0.178194</td>\n",
              "      <td>0.017174</td>\n",
              "      <td>4.000781</td>\n",
              "      <td>2.392521</td>\n",
              "      <td>74</td>\n",
              "      <td>45480</td>\n",
              "      <td>1431.443492</td>\n",
              "      <td>144411.7055</td>\n",
              "      <td>79025</td>\n",
              "    </tr>\n",
              "    <tr>\n",
              "      <th>3</th>\n",
              "      <td>2130</td>\n",
              "      <td>0.000010</td>\n",
              "      <td>369.403342</td>\n",
              "      <td>183.193104</td>\n",
              "      <td>1756</td>\n",
              "      <td>8159</td>\n",
              "      <td>0.556879</td>\n",
              "      <td>0.164502</td>\n",
              "      <td>276.298223</td>\n",
              "      <td>0.090408</td>\n",
              "      <td>...</td>\n",
              "      <td>163.065803</td>\n",
              "      <td>0.113905</td>\n",
              "      <td>0.019860</td>\n",
              "      <td>4.206746</td>\n",
              "      <td>1.613522</td>\n",
              "      <td>123</td>\n",
              "      <td>67945</td>\n",
              "      <td>1465.843329</td>\n",
              "      <td>230184.7154</td>\n",
              "      <td>181220</td>\n",
              "    </tr>\n",
              "    <tr>\n",
              "      <th>4</th>\n",
              "      <td>2310</td>\n",
              "      <td>0.000007</td>\n",
              "      <td>257.997131</td>\n",
              "      <td>111.275889</td>\n",
              "      <td>987</td>\n",
              "      <td>4732</td>\n",
              "      <td>0.266077</td>\n",
              "      <td>0.145104</td>\n",
              "      <td>184.636510</td>\n",
              "      <td>0.037528</td>\n",
              "      <td>...</td>\n",
              "      <td>147.094679</td>\n",
              "      <td>0.121782</td>\n",
              "      <td>0.020872</td>\n",
              "      <td>3.319036</td>\n",
              "      <td>1.680629</td>\n",
              "      <td>92</td>\n",
              "      <td>37285</td>\n",
              "      <td>1841.702561</td>\n",
              "      <td>158290.0255</td>\n",
              "      <td>72575</td>\n",
              "    </tr>\n",
              "    <tr>\n",
              "      <th>...</th>\n",
              "      <td>...</td>\n",
              "      <td>...</td>\n",
              "      <td>...</td>\n",
              "      <td>...</td>\n",
              "      <td>...</td>\n",
              "      <td>...</td>\n",
              "      <td>...</td>\n",
              "      <td>...</td>\n",
              "      <td>...</td>\n",
              "      <td>...</td>\n",
              "      <td>...</td>\n",
              "      <td>...</td>\n",
              "      <td>...</td>\n",
              "      <td>...</td>\n",
              "      <td>...</td>\n",
              "      <td>...</td>\n",
              "      <td>...</td>\n",
              "      <td>...</td>\n",
              "      <td>...</td>\n",
              "      <td>...</td>\n",
              "      <td>...</td>\n",
              "    </tr>\n",
              "    <tr>\n",
              "      <th>169</th>\n",
              "      <td>2930</td>\n",
              "      <td>0.000010</td>\n",
              "      <td>241.736477</td>\n",
              "      <td>176.115957</td>\n",
              "      <td>1839</td>\n",
              "      <td>6439</td>\n",
              "      <td>0.253347</td>\n",
              "      <td>0.174663</td>\n",
              "      <td>208.926217</td>\n",
              "      <td>0.032691</td>\n",
              "      <td>...</td>\n",
              "      <td>200.568126</td>\n",
              "      <td>0.119152</td>\n",
              "      <td>0.020909</td>\n",
              "      <td>4.508709</td>\n",
              "      <td>2.233198</td>\n",
              "      <td>96</td>\n",
              "      <td>44545</td>\n",
              "      <td>1798.923336</td>\n",
              "      <td>247448.3108</td>\n",
              "      <td>80335</td>\n",
              "    </tr>\n",
              "    <tr>\n",
              "      <th>170</th>\n",
              "      <td>2140</td>\n",
              "      <td>0.000009</td>\n",
              "      <td>274.728964</td>\n",
              "      <td>234.495802</td>\n",
              "      <td>2053</td>\n",
              "      <td>8487</td>\n",
              "      <td>0.225537</td>\n",
              "      <td>0.174920</td>\n",
              "      <td>254.612383</td>\n",
              "      <td>0.032059</td>\n",
              "      <td>...</td>\n",
              "      <td>231.243565</td>\n",
              "      <td>0.174495</td>\n",
              "      <td>0.017640</td>\n",
              "      <td>4.685573</td>\n",
              "      <td>2.806888</td>\n",
              "      <td>84</td>\n",
              "      <td>37560</td>\n",
              "      <td>1725.619941</td>\n",
              "      <td>160664.6464</td>\n",
              "      <td>345835</td>\n",
              "    </tr>\n",
              "    <tr>\n",
              "      <th>171</th>\n",
              "      <td>3830</td>\n",
              "      <td>0.000008</td>\n",
              "      <td>151.536989</td>\n",
              "      <td>171.104693</td>\n",
              "      <td>1287</td>\n",
              "      <td>7352</td>\n",
              "      <td>0.165480</td>\n",
              "      <td>0.161058</td>\n",
              "      <td>161.320841</td>\n",
              "      <td>0.022705</td>\n",
              "      <td>...</td>\n",
              "      <td>177.935566</td>\n",
              "      <td>0.114472</td>\n",
              "      <td>0.017194</td>\n",
              "      <td>3.493815</td>\n",
              "      <td>2.510601</td>\n",
              "      <td>88</td>\n",
              "      <td>51675</td>\n",
              "      <td>1915.573488</td>\n",
              "      <td>128727.1241</td>\n",
              "      <td>83445</td>\n",
              "    </tr>\n",
              "    <tr>\n",
              "      <th>172</th>\n",
              "      <td>1760</td>\n",
              "      <td>0.000008</td>\n",
              "      <td>289.518195</td>\n",
              "      <td>196.411138</td>\n",
              "      <td>1674</td>\n",
              "      <td>6946</td>\n",
              "      <td>0.518937</td>\n",
              "      <td>0.202613</td>\n",
              "      <td>242.964666</td>\n",
              "      <td>0.090686</td>\n",
              "      <td>...</td>\n",
              "      <td>177.935566</td>\n",
              "      <td>0.114472</td>\n",
              "      <td>0.017194</td>\n",
              "      <td>3.493815</td>\n",
              "      <td>2.510601</td>\n",
              "      <td>88</td>\n",
              "      <td>51675</td>\n",
              "      <td>1915.573488</td>\n",
              "      <td>128727.1241</td>\n",
              "      <td>83445</td>\n",
              "    </tr>\n",
              "    <tr>\n",
              "      <th>173</th>\n",
              "      <td>2875</td>\n",
              "      <td>0.000008</td>\n",
              "      <td>235.769350</td>\n",
              "      <td>178.208024</td>\n",
              "      <td>1838</td>\n",
              "      <td>6560</td>\n",
              "      <td>0.567311</td>\n",
              "      <td>0.147818</td>\n",
              "      <td>206.988687</td>\n",
              "      <td>0.099555</td>\n",
              "      <td>...</td>\n",
              "      <td>177.935566</td>\n",
              "      <td>0.114472</td>\n",
              "      <td>0.017194</td>\n",
              "      <td>3.493815</td>\n",
              "      <td>2.510601</td>\n",
              "      <td>88</td>\n",
              "      <td>51675</td>\n",
              "      <td>1915.573488</td>\n",
              "      <td>128727.1241</td>\n",
              "      <td>83445</td>\n",
              "    </tr>\n",
              "  </tbody>\n",
              "</table>\n",
              "<p>174 rows × 450 columns</p>\n",
              "</div>\n",
              "      <button class=\"colab-df-convert\" onclick=\"convertToInteractive('df-3a1c1a01-f436-44f8-890c-ca510c4efd34')\"\n",
              "              title=\"Convert this dataframe to an interactive table.\"\n",
              "              style=\"display:none;\">\n",
              "        \n",
              "  <svg xmlns=\"http://www.w3.org/2000/svg\" height=\"24px\"viewBox=\"0 0 24 24\"\n",
              "       width=\"24px\">\n",
              "    <path d=\"M0 0h24v24H0V0z\" fill=\"none\"/>\n",
              "    <path d=\"M18.56 5.44l.94 2.06.94-2.06 2.06-.94-2.06-.94-.94-2.06-.94 2.06-2.06.94zm-11 1L8.5 8.5l.94-2.06 2.06-.94-2.06-.94L8.5 2.5l-.94 2.06-2.06.94zm10 10l.94 2.06.94-2.06 2.06-.94-2.06-.94-.94-2.06-.94 2.06-2.06.94z\"/><path d=\"M17.41 7.96l-1.37-1.37c-.4-.4-.92-.59-1.43-.59-.52 0-1.04.2-1.43.59L10.3 9.45l-7.72 7.72c-.78.78-.78 2.05 0 2.83L4 21.41c.39.39.9.59 1.41.59.51 0 1.02-.2 1.41-.59l7.78-7.78 2.81-2.81c.8-.78.8-2.07 0-2.86zM5.41 20L4 18.59l7.72-7.72 1.47 1.35L5.41 20z\"/>\n",
              "  </svg>\n",
              "      </button>\n",
              "      \n",
              "  <style>\n",
              "    .colab-df-container {\n",
              "      display:flex;\n",
              "      flex-wrap:wrap;\n",
              "      gap: 12px;\n",
              "    }\n",
              "\n",
              "    .colab-df-convert {\n",
              "      background-color: #E8F0FE;\n",
              "      border: none;\n",
              "      border-radius: 50%;\n",
              "      cursor: pointer;\n",
              "      display: none;\n",
              "      fill: #1967D2;\n",
              "      height: 32px;\n",
              "      padding: 0 0 0 0;\n",
              "      width: 32px;\n",
              "    }\n",
              "\n",
              "    .colab-df-convert:hover {\n",
              "      background-color: #E2EBFA;\n",
              "      box-shadow: 0px 1px 2px rgba(60, 64, 67, 0.3), 0px 1px 3px 1px rgba(60, 64, 67, 0.15);\n",
              "      fill: #174EA6;\n",
              "    }\n",
              "\n",
              "    [theme=dark] .colab-df-convert {\n",
              "      background-color: #3B4455;\n",
              "      fill: #D2E3FC;\n",
              "    }\n",
              "\n",
              "    [theme=dark] .colab-df-convert:hover {\n",
              "      background-color: #434B5C;\n",
              "      box-shadow: 0px 1px 3px 1px rgba(0, 0, 0, 0.15);\n",
              "      filter: drop-shadow(0px 1px 2px rgba(0, 0, 0, 0.3));\n",
              "      fill: #FFFFFF;\n",
              "    }\n",
              "  </style>\n",
              "\n",
              "      <script>\n",
              "        const buttonEl =\n",
              "          document.querySelector('#df-3a1c1a01-f436-44f8-890c-ca510c4efd34 button.colab-df-convert');\n",
              "        buttonEl.style.display =\n",
              "          google.colab.kernel.accessAllowed ? 'block' : 'none';\n",
              "\n",
              "        async function convertToInteractive(key) {\n",
              "          const element = document.querySelector('#df-3a1c1a01-f436-44f8-890c-ca510c4efd34');\n",
              "          const dataTable =\n",
              "            await google.colab.kernel.invokeFunction('convertToInteractive',\n",
              "                                                     [key], {});\n",
              "          if (!dataTable) return;\n",
              "\n",
              "          const docLinkHtml = 'Like what you see? Visit the ' +\n",
              "            '<a target=\"_blank\" href=https://colab.research.google.com/notebooks/data_table.ipynb>data table notebook</a>'\n",
              "            + ' to learn more about interactive tables.';\n",
              "          element.innerHTML = '';\n",
              "          dataTable['output_type'] = 'display_data';\n",
              "          await google.colab.output.renderOutput(dataTable, element);\n",
              "          const docLink = document.createElement('div');\n",
              "          docLink.innerHTML = docLinkHtml;\n",
              "          element.appendChild(docLink);\n",
              "        }\n",
              "      </script>\n",
              "    </div>\n",
              "  </div>\n",
              "  "
            ]
          },
          "metadata": {},
          "execution_count": 10
        }
      ],
      "source": [
        "lr_X"
      ]
    },
    {
      "cell_type": "code",
      "execution_count": null,
      "metadata": {
        "id": "6t6B5buu9juy"
      },
      "outputs": [],
      "source": [
        "from sklearn.model_selection import train_test_split\n",
        "X_train, X_test ,y_train, y_test = train_test_split(lr_X,lr_y,test_size=0.20,random_state=0)"
      ]
    },
    {
      "cell_type": "code",
      "execution_count": null,
      "metadata": {
        "id": "V5HiFKf19Tx4"
      },
      "outputs": [],
      "source": [
        "from sklearn.preprocessing import StandardScaler\n",
        "\n",
        "ss_train = StandardScaler()\n",
        "X_train = ss_train.fit_transform(X_train)\n",
        "\n",
        "ss_test = StandardScaler()\n",
        "X_test = ss_test.fit_transform(X_test)"
      ]
    },
    {
      "cell_type": "code",
      "execution_count": null,
      "metadata": {
        "id": "ORA9ZD4r9ceI",
        "colab": {
          "base_uri": "https://localhost:8080/"
        },
        "outputId": "8f22b3f2-edb3-4d67-fe11-3025d217a307"
      },
      "outputs": [
        {
          "output_type": "execute_result",
          "data": {
            "text/plain": [
              "LogisticRegression(random_state=0)"
            ]
          },
          "metadata": {},
          "execution_count": 13
        }
      ],
      "source": [
        "from sklearn.linear_model import LogisticRegression\n",
        "model = LogisticRegression(random_state=0)\n",
        "model.fit(X_train, y_train)"
      ]
    },
    {
      "cell_type": "code",
      "execution_count": null,
      "metadata": {
        "id": "E7timEqZ9ulY"
      },
      "outputs": [],
      "source": [
        "y_pred=model.predict(X_test)"
      ]
    },
    {
      "cell_type": "code",
      "execution_count": null,
      "metadata": {
        "id": "VgLYkOL8-e5w",
        "colab": {
          "base_uri": "https://localhost:8080/"
        },
        "outputId": "e8ed8714-6e0b-4fff-ba35-7805aa9c0bb9"
      },
      "outputs": [
        {
          "output_type": "execute_result",
          "data": {
            "text/plain": [
              "0.8571428571428571"
            ]
          },
          "metadata": {},
          "execution_count": 15
        }
      ],
      "source": [
        "from sklearn.metrics import accuracy_score\n",
        "lr_score =accuracy_score(y_test,y_pred)\n",
        "lr_score"
      ]
    },
    {
      "cell_type": "code",
      "execution_count": null,
      "metadata": {
        "id": "4K5Whlinles7",
        "colab": {
          "base_uri": "https://localhost:8080/"
        },
        "outputId": "80876559-8046-48bc-fe93-7249c4bff540"
      },
      "outputs": [
        {
          "output_type": "stream",
          "name": "stdout",
          "text": [
            "Confusion matrix\n",
            "\n",
            " [[16  2]\n",
            " [ 3 14]]\n"
          ]
        }
      ],
      "source": [
        "from sklearn.metrics import confusion_matrix\n",
        "\n",
        "cm = confusion_matrix(y_test, y_pred)\n",
        "\n",
        "print('Confusion matrix\\n\\n', cm)"
      ]
    },
    {
      "cell_type": "code",
      "execution_count": null,
      "metadata": {
        "id": "1jf38n0KlkKV",
        "colab": {
          "base_uri": "https://localhost:8080/"
        },
        "outputId": "94f24790-143e-4b95-a225-4e29bc525bfd"
      },
      "outputs": [
        {
          "output_type": "stream",
          "name": "stdout",
          "text": [
            "              precision    recall  f1-score   support\n",
            "\n",
            "           H       0.84      0.89      0.86        18\n",
            "           P       0.88      0.82      0.85        17\n",
            "\n",
            "    accuracy                           0.86        35\n",
            "   macro avg       0.86      0.86      0.86        35\n",
            "weighted avg       0.86      0.86      0.86        35\n",
            "\n"
          ]
        }
      ],
      "source": [
        "from sklearn.metrics import classification_report\n",
        "\n",
        "print(classification_report(y_test, y_pred))"
      ]
    },
    {
      "cell_type": "code",
      "source": [
        "from sklearn import metrics\n",
        "import seaborn as sns\n",
        "cnf_matrix = metrics.confusion_matrix(y_test, y_pred)\n",
        "p = sns.heatmap(pd.DataFrame(cnf_matrix), annot=True, cmap=\"YlGnBu\" ,fmt='g')\n",
        "plt.title('Confusion matrix', y=1.1)\n",
        "plt.ylabel('Actual label')\n",
        "plt.xlabel('Predicted label')"
      ],
      "metadata": {
        "id": "ZvBj8wkC9gZa",
        "colab": {
          "base_uri": "https://localhost:8080/",
          "height": 313
        },
        "outputId": "2ccb1803-9741-44bd-ab89-1cafef88e7c4"
      },
      "execution_count": null,
      "outputs": [
        {
          "output_type": "execute_result",
          "data": {
            "text/plain": [
              "Text(0.5, 15.0, 'Predicted label')"
            ]
          },
          "metadata": {},
          "execution_count": 18
        },
        {
          "output_type": "display_data",
          "data": {
            "text/plain": [
              "<Figure size 432x288 with 2 Axes>"
            ],
            "image/png": "[encoded data removed]"
          },
          "metadata": {
            "needs_background": "light"
          }
        }
      ]
    },
    {
      "cell_type": "markdown",
      "metadata": {
        "id": "QEnqGp3B3HAA"
      },
      "source": [
        "# **Random Forest Classification**"
      ]
    },
    {
      "cell_type": "code",
      "execution_count": null,
      "metadata": {
        "id": "VvxntNiw3bgH"
      },
      "outputs": [],
      "source": [
        "import os\n",
        "import pandas as pd\n",
        "import numpy as np\n",
        "import seaborn as sns\n",
        "import matplotlib.pyplot as plt\n",
        "%matplotlib inline"
      ]
    },
    {
      "cell_type": "code",
      "execution_count": null,
      "metadata": {
        "id": "M-ZJFmZx3NWn"
      },
      "outputs": [],
      "source": [
        "df=pd.read_csv(\"/content/DARWIN.csv\");\n",
        "\n",
        "df.loc[df[\"class\"] == \"P\", \"class\"] = 0\n",
        "df.loc[df[\"class\"] == \"H\", \"class\"] = 1"
      ]
    },
    {
      "cell_type": "code",
      "execution_count": null,
      "metadata": {
        "id": "RBwv1eA63hjJ"
      },
      "outputs": [],
      "source": [
        "rf_y = df[\"class\"]\n",
        "rf_X = df.drop([\"class\",\"ID\"],axis=1)\n",
        "\n",
        "from sklearn.model_selection import train_test_split\n",
        "\n",
        "train_X, val_X, train_y, val_y = train_test_split(rf_X, rf_y,test_size=0.20,random_state = 0)"
      ]
    },
    {
      "cell_type": "code",
      "execution_count": null,
      "metadata": {
        "id": "0fFUgZRFkJ2_",
        "colab": {
          "base_uri": "https://localhost:8080/"
        },
        "outputId": "b3bef743-9a0c-4308-8886-7fa4af24ba4f"
      },
      "outputs": [
        {
          "output_type": "stream",
          "name": "stdout",
          "text": [
            "Model accuracy score with decision-tree : 0.8857\n"
          ]
        }
      ],
      "source": [
        "from sklearn.ensemble import RandomForestClassifier\n",
        "from sklearn.metrics import accuracy_score\n",
        "\n",
        "rfc = RandomForestClassifier(random_state=0)\n",
        "\n",
        "rfc.fit(X_train, y_train)\n",
        "y_pred = rfc.predict(X_test)\n",
        "\n",
        "print('Model accuracy score with decision-tree : {0:0.4f}'. format(accuracy_score(y_test, y_pred)))"
      ]
    },
    {
      "cell_type": "code",
      "execution_count": null,
      "metadata": {
        "id": "aawx63MIk79O",
        "colab": {
          "base_uri": "https://localhost:8080/"
        },
        "outputId": "eb9475a6-dd53-4ba8-b66f-043f5eeec062"
      },
      "outputs": [
        {
          "output_type": "stream",
          "name": "stdout",
          "text": [
            "Confusion matrix\n",
            "\n",
            " [[17  1]\n",
            " [ 3 14]]\n"
          ]
        }
      ],
      "source": [
        "from sklearn.metrics import confusion_matrix\n",
        "\n",
        "cm = confusion_matrix(y_test, y_pred)\n",
        "\n",
        "print('Confusion matrix\\n\\n', cm)"
      ]
    },
    {
      "cell_type": "code",
      "execution_count": null,
      "metadata": {
        "id": "8VDa688HlB30",
        "colab": {
          "base_uri": "https://localhost:8080/"
        },
        "outputId": "6af8910b-7fb2-4b4d-9a81-452a5ada8d95"
      },
      "outputs": [
        {
          "output_type": "stream",
          "name": "stdout",
          "text": [
            "              precision    recall  f1-score   support\n",
            "\n",
            "           H       0.85      0.94      0.89        18\n",
            "           P       0.93      0.82      0.87        17\n",
            "\n",
            "    accuracy                           0.89        35\n",
            "   macro avg       0.89      0.88      0.88        35\n",
            "weighted avg       0.89      0.89      0.89        35\n",
            "\n"
          ]
        }
      ],
      "source": [
        "from sklearn.metrics import classification_report\n",
        "\n",
        "print(classification_report(y_test, y_pred))"
      ]
    },
    {
      "cell_type": "code",
      "source": [
        "from sklearn import metrics\n",
        "cnf_matrix = metrics.confusion_matrix(y_test, y_pred)\n",
        "p = sns.heatmap(pd.DataFrame(cnf_matrix), annot=True, cmap=\"YlGnBu\" ,fmt='g')\n",
        "plt.title('Confusion matrix', y=1.1)\n",
        "plt.ylabel('Actual label')\n",
        "plt.xlabel('Predicted label')"
      ],
      "metadata": {
        "id": "V6snGc919O6p",
        "colab": {
          "base_uri": "https://localhost:8080/"
        },
        "outputId": "6f57396f-99a1-4a68-cf4b-edc145773f3f"
      },
      "execution_count": null,
      "outputs": [
        {
          "output_type": "execute_result",
          "data": {
            "text/plain": [
              "Text(0.5, 15.0, 'Predicted label')"
            ]
          },
          "metadata": {},
          "execution_count": 25
        },
        {
          "output_type": "display_data",
          "data": {
            "text/plain": [
              "<Figure size 432x288 with 2 Axes>"
            ],
            "image/png": "[encoded data removed]"
          },
          "metadata": {
            "needs_background": "light"
          }
        }
      ]
    },
    {
      "cell_type": "markdown",
      "source": [],
      "metadata": {
        "id": "xVs-9U1wx8rM"
      }
    },
    {
      "cell_type": "markdown",
      "source": [
        "# **Decision Tree Classification**"
      ],
      "metadata": {
        "id": "e3bxRxOBx-Ci"
      }
    },
    {
      "cell_type": "code",
      "source": [
        "import numpy as np\n",
        "import matplotlib.pyplot as plt\n",
        "import pandas as pd"
      ],
      "metadata": {
        "id": "doNj8PAryDnM"
      },
      "execution_count": null,
      "outputs": []
    },
    {
      "cell_type": "code",
      "source": [
        "df=pd.read_csv(\"/content/DARWIN.csv\");\n",
        "\n",
        "df.loc[df[\"class\"] == \"P\", \"class\"] = 0\n",
        "df.loc[df[\"class\"] == \"H\", \"class\"] = 1"
      ],
      "metadata": {
        "id": "kile-Q0CyM7d"
      },
      "execution_count": null,
      "outputs": []
    },
    {
      "cell_type": "code",
      "source": [
        "y = df[\"class\"]\n",
        "X = df.drop([\"class\",\"ID\"],axis=1)\n",
        "y=y.astype('int')\n",
        "from sklearn.model_selection import train_test_split\n",
        "X_train, X_test, y_train, y_test = train_test_split(X, y, test_size = 0.20, random_state = 0)"
      ],
      "metadata": {
        "id": "wotIl1mrymH2"
      },
      "execution_count": null,
      "outputs": []
    },
    {
      "cell_type": "code",
      "source": [
        "from sklearn.preprocessing import StandardScaler\n",
        "sc = StandardScaler()\n",
        "X_train = sc.fit_transform(X_train)\n",
        "X_test = sc.transform(X_test)"
      ],
      "metadata": {
        "id": "MBTz6j2SyyAy"
      },
      "execution_count": null,
      "outputs": []
    },
    {
      "cell_type": "code",
      "source": [
        "from sklearn.tree import DecisionTreeClassifier\n",
        "classifier = DecisionTreeClassifier(criterion = 'gini', random_state = 0)\n",
        "\n",
        "classifier.fit(X_train, y_train)\n"
      ],
      "metadata": {
        "id": "Xeq-CGiUy2nK",
        "colab": {
          "base_uri": "https://localhost:8080/"
        },
        "outputId": "d607c452-6b2f-428a-d059-121ecb3d8b10"
      },
      "execution_count": null,
      "outputs": [
        {
          "output_type": "execute_result",
          "data": {
            "text/plain": [
              "DecisionTreeClassifier(random_state=0)"
            ]
          },
          "metadata": {},
          "execution_count": 30
        }
      ]
    },
    {
      "cell_type": "code",
      "source": [
        "y_pred = classifier.predict(X_test)"
      ],
      "metadata": {
        "id": "nyDwZyOo0ZBh"
      },
      "execution_count": null,
      "outputs": []
    },
    {
      "cell_type": "code",
      "source": [
        "from sklearn.metrics import accuracy_score\n",
        "dtscore=accuracy_score(y_test, y_pred)\n",
        "dtscore"
      ],
      "metadata": {
        "id": "3gptonm501Y5",
        "colab": {
          "base_uri": "https://localhost:8080/"
        },
        "outputId": "f5dbd87c-aa83-462e-f739-84f50bc5f425"
      },
      "execution_count": null,
      "outputs": [
        {
          "output_type": "execute_result",
          "data": {
            "text/plain": [
              "0.8571428571428571"
            ]
          },
          "metadata": {},
          "execution_count": 32
        }
      ]
    },
    {
      "cell_type": "code",
      "source": [
        "from sklearn.metrics import confusion_matrix\n",
        "cm = confusion_matrix(y_test, y_pred)\n",
        "print(cm)\n"
      ],
      "metadata": {
        "id": "1OjEDs840vky",
        "colab": {
          "base_uri": "https://localhost:8080/"
        },
        "outputId": "e38d738b-4f76-4696-8e0a-456a073f5aa6"
      },
      "execution_count": null,
      "outputs": [
        {
          "output_type": "stream",
          "name": "stdout",
          "text": [
            "[[14  3]\n",
            " [ 2 16]]\n"
          ]
        }
      ]
    },
    {
      "cell_type": "code",
      "source": [
        "from sklearn.metrics import classification_report\n",
        "\n",
        "print(classification_report(y_test, y_pred))"
      ],
      "metadata": {
        "id": "9Qz5lnc_1AQ5",
        "colab": {
          "base_uri": "https://localhost:8080/"
        },
        "outputId": "8491ce59-4c33-41ff-fbff-3f6468bc496e"
      },
      "execution_count": null,
      "outputs": [
        {
          "output_type": "stream",
          "name": "stdout",
          "text": [
            "              precision    recall  f1-score   support\n",
            "\n",
            "           0       0.88      0.82      0.85        17\n",
            "           1       0.84      0.89      0.86        18\n",
            "\n",
            "    accuracy                           0.86        35\n",
            "   macro avg       0.86      0.86      0.86        35\n",
            "weighted avg       0.86      0.86      0.86        35\n",
            "\n"
          ]
        }
      ]
    },
    {
      "cell_type": "code",
      "source": [
        "from sklearn import metrics\n",
        "cnf_matrix = metrics.confusion_matrix(y_test, y_pred)\n",
        "p = sns.heatmap(pd.DataFrame(cnf_matrix), annot=True, cmap=\"YlGnBu\" ,fmt='g')\n",
        "plt.title('Confusion matrix', y=1.1)\n",
        "plt.ylabel('Actual label')\n",
        "plt.xlabel('Predicted label')"
      ],
      "metadata": {
        "id": "UjWohodC9G1R",
        "colab": {
          "base_uri": "https://localhost:8080/"
        },
        "outputId": "94a8d5a6-51cc-434b-b932-497f42784914"
      },
      "execution_count": null,
      "outputs": [
        {
          "output_type": "execute_result",
          "data": {
            "text/plain": [
              "Text(0.5, 15.0, 'Predicted label')"
            ]
          },
          "metadata": {},
          "execution_count": 35
        },
        {
          "output_type": "display_data",
          "data": {
            "text/plain": [
              "<Figure size 432x288 with 2 Axes>"
            ],
            "image/png": "[encoded data removed]"
          },
          "metadata": {
            "needs_background": "light"
          }
        }
      ]
    },
    {
      "cell_type": "markdown",
      "source": [
        "# **KNN**"
      ],
      "metadata": {
        "id": "ix-Tm4XO5-K6"
      }
    },
    {
      "cell_type": "code",
      "source": [
        "from mlxtend.plotting import plot_decision_regions\n",
        "import numpy as np\n",
        "import pandas as pd\n",
        "import matplotlib.pyplot as plt\n",
        "import seaborn as sns\n",
        "sns.set()\n",
        "import warnings\n",
        "warnings.filterwarnings('ignore')\n",
        "%matplotlib inline"
      ],
      "metadata": {
        "id": "6Y8DvkP_6Bx6"
      },
      "execution_count": null,
      "outputs": []
    },
    {
      "cell_type": "code",
      "source": [
        "df=pd.read_csv(\"/content/DARWIN.csv\");\n",
        "\n",
        "df.loc[df[\"class\"] == \"P\", \"class\"] = 0\n",
        "df.loc[df[\"class\"] == \"H\", \"class\"] = 1"
      ],
      "metadata": {
        "id": "jvn1T-qj6LwB"
      },
      "execution_count": null,
      "outputs": []
    },
    {
      "cell_type": "code",
      "source": [
        "y = df[\"class\"]\n",
        "X = df.drop([\"class\",\"ID\"],axis=1)\n",
        "y=y.astype('int')\n",
        "from sklearn.model_selection import train_test_split\n",
        "X_train, X_test, y_train, y_test = train_test_split(X, y, test_size = 0.20, random_state = 0)"
      ],
      "metadata": {
        "id": "1lwhoxAu6M3x"
      },
      "execution_count": null,
      "outputs": []
    },
    {
      "cell_type": "code",
      "source": [
        "from sklearn.neighbors import KNeighborsClassifier\n",
        "\n",
        "\n",
        "test_scores = []\n",
        "train_scores = []\n",
        "\n",
        "for i in range(1,15):\n",
        "\n",
        "    knn = KNeighborsClassifier(i)\n",
        "    knn.fit(X_train,y_train)\n",
        "\n",
        "    train_scores.append(knn.score(X_train,y_train))\n",
        "    test_scores.append(knn.score(X_test,y_test))"
      ],
      "metadata": {
        "id": "W8L6qRHB6foB"
      },
      "execution_count": null,
      "outputs": []
    },
    {
      "cell_type": "code",
      "source": [
        "max_train_score = max(train_scores)\n",
        "train_scores_ind = [i for i, v in enumerate(train_scores) if v == max_train_score]\n",
        "print('Max train score {} % and k = {}'.format(max_train_score*100,list(map(lambda x: x+1, train_scores_ind))))"
      ],
      "metadata": {
        "id": "0_1MJQw57Duh",
        "colab": {
          "base_uri": "https://localhost:8080/"
        },
        "outputId": "c3570d63-1d43-4d17-8496-3f58faf2f03e"
      },
      "execution_count": null,
      "outputs": [
        {
          "output_type": "stream",
          "name": "stdout",
          "text": [
            "Max train score 100.0 % and k = [1]\n"
          ]
        }
      ]
    },
    {
      "cell_type": "code",
      "source": [
        "max_test_score = max(test_scores)\n",
        "test_scores_ind = [i for i, v in enumerate(test_scores) if v == max_test_score]\n",
        "print('Max test score {} % and k = {}'.format(max_test_score*100,list(map(lambda x: x+1, test_scores_ind))))"
      ],
      "metadata": {
        "id": "WqM77rB87J96",
        "colab": {
          "base_uri": "https://localhost:8080/"
        },
        "outputId": "9a06db3b-d5cf-4b8d-a319-35ac8fbc16ad"
      },
      "execution_count": null,
      "outputs": [
        {
          "output_type": "stream",
          "name": "stdout",
          "text": [
            "Max test score 82.85714285714286 % and k = [4]\n"
          ]
        }
      ]
    },
    {
      "cell_type": "code",
      "source": [
        "plt.figure(figsize=(12,5))\n",
        "p = sns.lineplot(range(1,15),train_scores,marker='*',label='Train Score')\n",
        "p = sns.lineplot(range(1,15),test_scores,marker='o',label='Test Score')"
      ],
      "metadata": {
        "id": "aX5WPshV7O1p",
        "colab": {
          "base_uri": "https://localhost:8080/"
        },
        "outputId": "14784c80-8afd-44fe-d2d3-9693ff615f7f"
      },
      "execution_count": null,
      "outputs": [
        {
          "output_type": "display_data",
          "data": {
            "text/plain": [
              "<Figure size 864x360 with 1 Axes>"
            ],
            "image/png": "[encoded data removed]"
          },
          "metadata": {
            "needs_background": "light"
          }
        }
      ]
    },
    {
      "cell_type": "markdown",
      "source": [
        "Best result captured at k = 4 Neighbours"
      ],
      "metadata": {
        "id": "hFkF-ITZ7T9w"
      }
    },
    {
      "cell_type": "code",
      "source": [
        "#Setup a knn classifier with k=4 neighbors\n",
        "knn = KNeighborsClassifier(4)\n",
        "\n",
        "knn.fit(X_train,y_train)\n",
        "knn.score(X_test,y_test)"
      ],
      "metadata": {
        "id": "Mkac9d_A7RHq",
        "colab": {
          "base_uri": "https://localhost:8080/"
        },
        "outputId": "e1832810-8fa1-4e66-b682-bcee17120636"
      },
      "execution_count": null,
      "outputs": [
        {
          "output_type": "execute_result",
          "data": {
            "text/plain": [
              "0.8285714285714286"
            ]
          },
          "metadata": {},
          "execution_count": 43
        }
      ]
    },
    {
      "cell_type": "code",
      "source": [
        "from sklearn.metrics import confusion_matrix\n",
        "cm = confusion_matrix(y_test, y_pred)\n",
        "print(cm)"
      ],
      "metadata": {
        "id": "pC4sZr-J8KeK",
        "colab": {
          "base_uri": "https://localhost:8080/"
        },
        "outputId": "8e2850d2-c334-4363-bf05-b845268ef764"
      },
      "execution_count": null,
      "outputs": [
        {
          "output_type": "stream",
          "name": "stdout",
          "text": [
            "[[14  3]\n",
            " [ 2 16]]\n"
          ]
        }
      ]
    },
    {
      "cell_type": "code",
      "source": [
        "from sklearn.metrics import classification_report\n",
        "\n",
        "print(classification_report(y_test, y_pred))"
      ],
      "metadata": {
        "id": "wer-JhwQ8wRn",
        "colab": {
          "base_uri": "https://localhost:8080/"
        },
        "outputId": "b022c67c-5416-463a-cdcd-f3ee3ce918b9"
      },
      "execution_count": null,
      "outputs": [
        {
          "output_type": "stream",
          "name": "stdout",
          "text": [
            "              precision    recall  f1-score   support\n",
            "\n",
            "           0       0.88      0.82      0.85        17\n",
            "           1       0.84      0.89      0.86        18\n",
            "\n",
            "    accuracy                           0.86        35\n",
            "   macro avg       0.86      0.86      0.86        35\n",
            "weighted avg       0.86      0.86      0.86        35\n",
            "\n"
          ]
        }
      ]
    },
    {
      "cell_type": "code",
      "source": [
        "from sklearn import metrics\n",
        "cnf_matrix = metrics.confusion_matrix(y_test, y_pred)\n",
        "p = sns.heatmap(pd.DataFrame(cnf_matrix), annot=True, cmap=\"YlGnBu\" ,fmt='g')\n",
        "plt.title('Confusion matrix', y=1.1)\n",
        "plt.ylabel('Actual label')\n",
        "plt.xlabel('Predicted label')"
      ],
      "metadata": {
        "id": "WEFQTbVZ8-uZ",
        "colab": {
          "base_uri": "https://localhost:8080/"
        },
        "outputId": "62fc35bb-56ea-40a0-cc70-6e324d0a5bc5"
      },
      "execution_count": null,
      "outputs": [
        {
          "output_type": "execute_result",
          "data": {
            "text/plain": [
              "Text(0.5, 12.5, 'Predicted label')"
            ]
          },
          "metadata": {},
          "execution_count": 46
        },
        {
          "output_type": "display_data",
          "data": {
            "text/plain": [
              "<Figure size 432x288 with 2 Axes>"
            ],
            "image/png": "[encoded data removed]"
          },
          "metadata": {
            "needs_background": "light"
          }
        }
      ]
    },
    {
      "cell_type": "markdown",
      "source": [
        "# **Gaussian Naive Bayes**"
      ],
      "metadata": {
        "id": "5yQrZ8Un-Fmi"
      }
    },
    {
      "cell_type": "code",
      "source": [
        "import numpy as np\n",
        "import pandas as pd\n",
        "import matplotlib.pyplot as plt"
      ],
      "metadata": {
        "id": "fUCg84Nn-9Vg"
      },
      "execution_count": null,
      "outputs": []
    },
    {
      "cell_type": "code",
      "source": [
        "df=pd.read_csv(\"/content/DARWIN.csv\");\n",
        "\n",
        "df.loc[df[\"class\"] == \"P\", \"class\"] = 0\n",
        "df.loc[df[\"class\"] == \"H\", \"class\"] = 1"
      ],
      "metadata": {
        "id": "eR5jrFfv-Ku6"
      },
      "execution_count": null,
      "outputs": []
    },
    {
      "cell_type": "code",
      "source": [
        "y = df[\"class\"]\n",
        "X = df.drop([\"class\",\"ID\"],axis=1)\n",
        "y=y.astype('int')\n",
        "from sklearn.model_selection import train_test_split\n",
        "X_train, X_test, y_train, y_test = train_test_split(X, y, test_size = 0.30, random_state = 0)"
      ],
      "metadata": {
        "id": "q00y4KHJ-5FD"
      },
      "execution_count": null,
      "outputs": []
    },
    {
      "cell_type": "code",
      "source": [
        "from sklearn.naive_bayes import GaussianNB\n",
        "\n",
        "gnb = GaussianNB()\n",
        "\n",
        "gnb.fit(X_train, y_train)"
      ],
      "metadata": {
        "id": "eouR46tY-_rx",
        "colab": {
          "base_uri": "https://localhost:8080/"
        },
        "outputId": "09d0181c-90b2-4bad-93ed-6b02ec199e15"
      },
      "execution_count": null,
      "outputs": [
        {
          "output_type": "execute_result",
          "data": {
            "text/plain": [
              "GaussianNB()"
            ]
          },
          "metadata": {},
          "execution_count": 50
        }
      ]
    },
    {
      "cell_type": "code",
      "source": [
        "y_pred = gnb.predict(X_test)\n",
        "\n",
        "y_pred"
      ],
      "metadata": {
        "id": "ZsX3ZNrt_F5j",
        "colab": {
          "base_uri": "https://localhost:8080/"
        },
        "outputId": "6ef19f4d-4066-4f23-af42-9f35be26b70e"
      },
      "execution_count": null,
      "outputs": [
        {
          "output_type": "execute_result",
          "data": {
            "text/plain": [
              "array([0, 0, 0, 0, 1, 0, 1, 1, 1, 1, 1, 1, 0, 1, 0, 1, 0, 0, 0, 0, 1, 0,\n",
              "       0, 1, 0, 1, 1, 1, 1, 1, 0, 0, 0, 1, 0, 0, 0, 1, 1, 1, 0, 0, 1, 1,\n",
              "       0, 0, 1, 0, 1, 0, 1, 1, 1])"
            ]
          },
          "metadata": {},
          "execution_count": 51
        }
      ]
    },
    {
      "cell_type": "code",
      "source": [
        "from sklearn.metrics import accuracy_score\n",
        "\n",
        "print('Model accuracy score: {0:0.4f}'. format(accuracy_score(y_test, y_pred)))"
      ],
      "metadata": {
        "id": "125_waA0_Kdi",
        "colab": {
          "base_uri": "https://localhost:8080/"
        },
        "outputId": "a6bf60fe-555f-4ed1-d73f-c07da74e8266"
      },
      "execution_count": null,
      "outputs": [
        {
          "output_type": "stream",
          "name": "stdout",
          "text": [
            "Model accuracy score: 0.8302\n"
          ]
        }
      ]
    },
    {
      "cell_type": "code",
      "source": [
        "y_pred_train = gnb.predict(X_train)\n",
        "\n",
        "y_pred_train"
      ],
      "metadata": {
        "id": "neoi36EQ_bkI",
        "colab": {
          "base_uri": "https://localhost:8080/"
        },
        "outputId": "b2cb456a-79ca-4a52-ed59-ac6ffa9e77eb"
      },
      "execution_count": null,
      "outputs": [
        {
          "output_type": "execute_result",
          "data": {
            "text/plain": [
              "array([1, 0, 0, 1, 1, 0, 1, 1, 0, 1, 1, 1, 1, 0, 0, 1, 0, 1, 1, 0, 0, 0,\n",
              "       0, 1, 1, 1, 1, 1, 1, 0, 1, 1, 0, 1, 1, 0, 0, 0, 0, 0, 1, 0, 1, 0,\n",
              "       0, 0, 0, 1, 0, 0, 1, 1, 0, 0, 0, 0, 1, 0, 1, 1, 0, 0, 1, 1, 0, 0,\n",
              "       1, 1, 0, 0, 1, 1, 0, 0, 1, 1, 1, 0, 1, 0, 0, 1, 0, 1, 1, 0, 0, 1,\n",
              "       0, 1, 1, 1, 0, 1, 0, 1, 0, 0, 1, 1, 1, 0, 0, 0, 0, 1, 1, 0, 0, 1,\n",
              "       0, 0, 0, 0, 0, 0, 1, 0, 1, 0, 1])"
            ]
          },
          "metadata": {},
          "execution_count": 53
        }
      ]
    },
    {
      "cell_type": "code",
      "source": [
        "print('Training set score: {:.4f}'.format(gnb.score(X_train, y_train)))\n",
        "\n",
        "print('Test set score: {:.4f}'.format(gnb.score(X_test, y_test)))"
      ],
      "metadata": {
        "id": "L8FbBmM1_ldi",
        "colab": {
          "base_uri": "https://localhost:8080/"
        },
        "outputId": "9c422723-01f6-41ec-db4d-7e90c1dc43b7"
      },
      "execution_count": null,
      "outputs": [
        {
          "output_type": "stream",
          "name": "stdout",
          "text": [
            "Training set score: 0.9587\n",
            "Test set score: 0.8302\n"
          ]
        }
      ]
    },
    {
      "cell_type": "code",
      "source": [
        "from sklearn.metrics import confusion_matrix\n",
        "cm = confusion_matrix(y_test, y_pred)\n",
        "print(cm)"
      ],
      "metadata": {
        "id": "OqX1lTxNAfzZ",
        "colab": {
          "base_uri": "https://localhost:8080/"
        },
        "outputId": "5db14deb-4f91-42d2-91e9-e748a0752bc0"
      },
      "execution_count": null,
      "outputs": [
        {
          "output_type": "stream",
          "name": "stdout",
          "text": [
            "[[21  4]\n",
            " [ 5 23]]\n"
          ]
        }
      ]
    },
    {
      "cell_type": "code",
      "source": [
        "from sklearn.metrics import classification_report\n",
        "\n",
        "print(classification_report(y_test, y_pred))"
      ],
      "metadata": {
        "id": "7oaiAqYTAk6p",
        "colab": {
          "base_uri": "https://localhost:8080/"
        },
        "outputId": "80503afa-acd2-41b3-b896-ac180f12f237"
      },
      "execution_count": null,
      "outputs": [
        {
          "output_type": "stream",
          "name": "stdout",
          "text": [
            "              precision    recall  f1-score   support\n",
            "\n",
            "           0       0.81      0.84      0.82        25\n",
            "           1       0.85      0.82      0.84        28\n",
            "\n",
            "    accuracy                           0.83        53\n",
            "   macro avg       0.83      0.83      0.83        53\n",
            "weighted avg       0.83      0.83      0.83        53\n",
            "\n"
          ]
        }
      ]
    },
    {
      "cell_type": "code",
      "source": [
        "from sklearn import metrics\n",
        "cnf_matrix = metrics.confusion_matrix(y_test, y_pred)\n",
        "p = sns.heatmap(pd.DataFrame(cnf_matrix), annot=True, cmap=\"YlGnBu\" ,fmt='g')\n",
        "plt.title('Confusion matrix', y=1.1)\n",
        "plt.ylabel('Actual label')\n",
        "plt.xlabel('Predicted label')"
      ],
      "metadata": {
        "id": "ym-Vx7ptAmNg",
        "colab": {
          "base_uri": "https://localhost:8080/"
        },
        "outputId": "e2d6e095-dc68-4fe9-90af-2d4cd067af9d"
      },
      "execution_count": null,
      "outputs": [
        {
          "output_type": "execute_result",
          "data": {
            "text/plain": [
              "Text(0.5, 12.5, 'Predicted label')"
            ]
          },
          "metadata": {},
          "execution_count": 57
        },
        {
          "output_type": "display_data",
          "data": {
            "text/plain": [
              "<Figure size 432x288 with 2 Axes>"
            ],
            "image/png": "[encoded data removed]"
          },
          "metadata": {
            "needs_background": "light"
          }
        }
      ]
    },
    {
      "cell_type": "markdown",
      "source": [
        "# **SVM**"
      ],
      "metadata": {
        "id": "htD1_A_vBOYK"
      }
    },
    {
      "cell_type": "code",
      "source": [
        "import pandas as pd\n",
        "import numpy as np\n",
        "\n",
        "from sklearn import preprocessing\n",
        "from sklearn.metrics import confusion_matrix\n",
        "from sklearn import svm\n",
        "\n",
        "import itertools\n",
        "import matplotlib.pyplot as plt\n",
        "import matplotlib.mlab as mlab\n",
        "\n",
        "import seaborn\n",
        "\n",
        "%matplotlib inline"
      ],
      "metadata": {
        "id": "j5te3IASBRkZ"
      },
      "execution_count": null,
      "outputs": []
    },
    {
      "cell_type": "code",
      "source": [
        "df=pd.read_csv(\"/content/DARWIN.csv\");\n",
        "\n",
        "df.loc[df[\"class\"] == \"P\", \"class\"] = 0\n",
        "df.loc[df[\"class\"] == \"H\", \"class\"] = 1"
      ],
      "metadata": {
        "id": "37Gy4NDWB2c5"
      },
      "execution_count": null,
      "outputs": []
    },
    {
      "cell_type": "code",
      "source": [
        "y = df[\"class\"]\n",
        "X = df.drop([\"class\",\"ID\"],axis=1)\n",
        "y=y.astype('int')\n",
        "from sklearn.model_selection import train_test_split\n",
        "X_train, X_test, y_train, y_test = train_test_split(X, y, test_size = 0.30, random_state = 0)"
      ],
      "metadata": {
        "id": "ma7aKqMfB57S"
      },
      "execution_count": null,
      "outputs": []
    },
    {
      "cell_type": "code",
      "source": [
        "from sklearn.svm import SVC\n",
        "model = SVC()"
      ],
      "metadata": {
        "id": "qXP34g37B8nS"
      },
      "execution_count": null,
      "outputs": []
    },
    {
      "cell_type": "code",
      "source": [
        "model.fit(X_train, y_train)"
      ],
      "metadata": {
        "id": "RlZ3mjAPCrQB",
        "colab": {
          "base_uri": "https://localhost:8080/"
        },
        "outputId": "f54d4a62-ceca-4247-e533-f0364ab67c3d"
      },
      "execution_count": null,
      "outputs": [
        {
          "output_type": "execute_result",
          "data": {
            "text/plain": [
              "SVC()"
            ]
          },
          "metadata": {},
          "execution_count": 62
        }
      ]
    },
    {
      "cell_type": "code",
      "source": [
        "model.score(X_test, y_test)"
      ],
      "metadata": {
        "id": "aT_Kp298Crqb",
        "colab": {
          "base_uri": "https://localhost:8080/"
        },
        "outputId": "dbad6feb-3e5c-4fd6-a399-07c1187bf9bb"
      },
      "execution_count": null,
      "outputs": [
        {
          "output_type": "execute_result",
          "data": {
            "text/plain": [
              "0.49056603773584906"
            ]
          },
          "metadata": {},
          "execution_count": 63
        }
      ]
    },
    {
      "cell_type": "markdown",
      "source": [
        "Tuning Parameters"
      ],
      "metadata": {
        "id": "uTzbzubxC4Ry"
      }
    },
    {
      "cell_type": "markdown",
      "source": [
        "1. Regularization (C)"
      ],
      "metadata": {
        "id": "VGw_BKplC8D5"
      }
    },
    {
      "cell_type": "code",
      "source": [
        "model_C = SVC(C=1)\n",
        "model_C.fit(X_train, y_train)\n",
        "model_C.score(X_test, y_test)"
      ],
      "metadata": {
        "id": "tHF0UXgLCuD5",
        "colab": {
          "base_uri": "https://localhost:8080/"
        },
        "outputId": "2fdd2fa6-6047-4c5e-d693-96225922b881"
      },
      "execution_count": null,
      "outputs": [
        {
          "output_type": "execute_result",
          "data": {
            "text/plain": [
              "0.49056603773584906"
            ]
          },
          "metadata": {},
          "execution_count": 64
        }
      ]
    },
    {
      "cell_type": "code",
      "source": [
        "model_C = SVC(C=10)\n",
        "model_C.fit(X_train, y_train)\n",
        "model_C.score(X_test, y_test)"
      ],
      "metadata": {
        "id": "Tg3_5c_5CyC7",
        "colab": {
          "base_uri": "https://localhost:8080/"
        },
        "outputId": "b717f61b-c976-4d76-f3e4-ec96d4e2745c"
      },
      "execution_count": null,
      "outputs": [
        {
          "output_type": "execute_result",
          "data": {
            "text/plain": [
              "0.7547169811320755"
            ]
          },
          "metadata": {},
          "execution_count": 65
        }
      ]
    },
    {
      "cell_type": "code",
      "source": [
        "model_C = SVC(C=30)\n",
        "model_C.fit(X_train, y_train)\n",
        "model_C.score(X_test, y_test)"
      ],
      "metadata": {
        "id": "_I7mic8gC0Xq",
        "colab": {
          "base_uri": "https://localhost:8080/"
        },
        "outputId": "1b68c0ab-6b4d-4264-adf2-d5dc5130bc87"
      },
      "execution_count": null,
      "outputs": [
        {
          "output_type": "execute_result",
          "data": {
            "text/plain": [
              "0.8113207547169812"
            ]
          },
          "metadata": {},
          "execution_count": 66
        }
      ]
    },
    {
      "cell_type": "code",
      "source": [
        "model_C = SVC(C=50)\n",
        "model_C.fit(X_train, y_train)\n",
        "model_C.score(X_test, y_test)"
      ],
      "metadata": {
        "id": "WXHSfJx_DB7K",
        "colab": {
          "base_uri": "https://localhost:8080/"
        },
        "outputId": "0b00db99-7363-4d22-87bd-7218fc6b5a6b"
      },
      "execution_count": null,
      "outputs": [
        {
          "output_type": "execute_result",
          "data": {
            "text/plain": [
              "0.8301886792452831"
            ]
          },
          "metadata": {},
          "execution_count": 67
        }
      ]
    },
    {
      "cell_type": "code",
      "source": [
        "model_C = SVC(C=100)\n",
        "model_C.fit(X_train, y_train)\n",
        "model_C.score(X_test, y_test)"
      ],
      "metadata": {
        "id": "M2xeNu6zDFlq",
        "colab": {
          "base_uri": "https://localhost:8080/"
        },
        "outputId": "cb9ab18b-c074-4ed1-dcf9-6023cd6138c3"
      },
      "execution_count": null,
      "outputs": [
        {
          "output_type": "execute_result",
          "data": {
            "text/plain": [
              "0.8679245283018868"
            ]
          },
          "metadata": {},
          "execution_count": 68
        }
      ]
    },
    {
      "cell_type": "markdown",
      "source": [
        "With increasing C , more accurate the model"
      ],
      "metadata": {
        "id": "NskT1hnwDp0K"
      }
    },
    {
      "cell_type": "markdown",
      "source": [
        "2. Gamma"
      ],
      "metadata": {
        "id": "UytJtsUsDWIJ"
      }
    },
    {
      "cell_type": "code",
      "source": [
        "model_g = SVC(gamma=10)\n",
        "model_g.fit(X_train, y_train)\n",
        "model_g.score(X_test, y_test)"
      ],
      "metadata": {
        "id": "U_WwFBVnDOz5",
        "colab": {
          "base_uri": "https://localhost:8080/"
        },
        "outputId": "512e6041-e32b-4a3d-8afb-27d83e8428e2"
      },
      "execution_count": null,
      "outputs": [
        {
          "output_type": "execute_result",
          "data": {
            "text/plain": [
              "0.4716981132075472"
            ]
          },
          "metadata": {},
          "execution_count": 69
        }
      ]
    },
    {
      "cell_type": "code",
      "source": [
        "model_g = SVC(gamma=20)\n",
        "model_g.fit(X_train, y_train)\n",
        "model_g.score(X_test, y_test)"
      ],
      "metadata": {
        "id": "sijozNcaDZQK",
        "colab": {
          "base_uri": "https://localhost:8080/"
        },
        "outputId": "19352170-7158-40a5-e6a1-c74e0fd1ff98"
      },
      "execution_count": null,
      "outputs": [
        {
          "output_type": "execute_result",
          "data": {
            "text/plain": [
              "0.4716981132075472"
            ]
          },
          "metadata": {},
          "execution_count": 70
        }
      ]
    },
    {
      "cell_type": "code",
      "source": [
        "model_g = SVC(gamma=50)\n",
        "model_g.fit(X_train, y_train)\n",
        "model_g.score(X_test, y_test)"
      ],
      "metadata": {
        "id": "d8dImttiDeg6",
        "colab": {
          "base_uri": "https://localhost:8080/"
        },
        "outputId": "cf7726b3-9514-42b0-81ea-d15a4da2bb63"
      },
      "execution_count": null,
      "outputs": [
        {
          "output_type": "execute_result",
          "data": {
            "text/plain": [
              "0.4716981132075472"
            ]
          },
          "metadata": {},
          "execution_count": 71
        }
      ]
    },
    {
      "cell_type": "code",
      "source": [
        "model_g = SVC(gamma=100)\n",
        "model_g.fit(X_train, y_train)\n",
        "model_g.score(X_test, y_test)"
      ],
      "metadata": {
        "id": "wJVx0beBDlCq",
        "colab": {
          "base_uri": "https://localhost:8080/"
        },
        "outputId": "c9589595-f554-498a-a847-945e1a4e536d"
      },
      "execution_count": null,
      "outputs": [
        {
          "output_type": "execute_result",
          "data": {
            "text/plain": [
              "0.4716981132075472"
            ]
          },
          "metadata": {},
          "execution_count": 72
        }
      ]
    },
    {
      "cell_type": "markdown",
      "source": [
        "Variation in Gamma is not reflecting on model score"
      ],
      "metadata": {
        "id": "2jaxDJsHDzVh"
      }
    },
    {
      "cell_type": "markdown",
      "source": [
        "3. Kernel"
      ],
      "metadata": {
        "id": "wVLyVEw7EAVb"
      }
    },
    {
      "cell_type": "code",
      "source": [
        "model_rbf_kernal = SVC(kernel='rbf')\n",
        "model_rbf_kernal.fit(X_train, y_train)"
      ],
      "metadata": {
        "id": "6UJTiImUJUjt",
        "colab": {
          "base_uri": "https://localhost:8080/"
        },
        "outputId": "bb236f8b-33db-4e9f-981d-bd3c836f147b"
      },
      "execution_count": null,
      "outputs": [
        {
          "output_type": "execute_result",
          "data": {
            "text/plain": [
              "SVC()"
            ]
          },
          "metadata": {},
          "execution_count": 73
        }
      ]
    },
    {
      "cell_type": "code",
      "source": [
        "model_rbf_kernal.score(X_test, y_test)"
      ],
      "metadata": {
        "id": "Z0sECCAQJVhM",
        "colab": {
          "base_uri": "https://localhost:8080/"
        },
        "outputId": "80008f02-d778-4292-b9b5-9d5d6c28dda4"
      },
      "execution_count": null,
      "outputs": [
        {
          "output_type": "execute_result",
          "data": {
            "text/plain": [
              "0.49056603773584906"
            ]
          },
          "metadata": {},
          "execution_count": 74
        }
      ]
    },
    {
      "cell_type": "code",
      "source": [
        "model_linear_kernal = SVC(kernel='linear')\n",
        "model_linear_kernal.fit(X_train, y_train)"
      ],
      "metadata": {
        "id": "0zPbKWbYDm1c",
        "colab": {
          "base_uri": "https://localhost:8080/"
        },
        "outputId": "6480b350-73c0-4b23-899e-218225e7bf2d"
      },
      "execution_count": null,
      "outputs": [
        {
          "output_type": "execute_result",
          "data": {
            "text/plain": [
              "SVC(kernel='linear')"
            ]
          },
          "metadata": {},
          "execution_count": 75
        }
      ]
    },
    {
      "cell_type": "code",
      "source": [
        "model_linear_kernal.score(X_test, y_test)"
      ],
      "metadata": {
        "id": "ustfkBi0ECpc",
        "colab": {
          "base_uri": "https://localhost:8080/"
        },
        "outputId": "938419c2-a435-4808-a388-15df05cd0b0b"
      },
      "execution_count": null,
      "outputs": [
        {
          "output_type": "execute_result",
          "data": {
            "text/plain": [
              "0.8679245283018868"
            ]
          },
          "metadata": {},
          "execution_count": 76
        }
      ]
    },
    {
      "cell_type": "code",
      "source": [
        "print('Training set score: {:.4f}'.format(model_linear_kernal.score(X_train, y_train)))\n",
        "\n",
        "print('Test set score: {:.4f}'.format(model_linear_kernal.score(X_test, y_test)))"
      ],
      "metadata": {
        "id": "7zCYWCGZEEqd",
        "colab": {
          "base_uri": "https://localhost:8080/"
        },
        "outputId": "dee2cf19-9143-4e57-922d-e0d3962a0948"
      },
      "execution_count": null,
      "outputs": [
        {
          "output_type": "stream",
          "name": "stdout",
          "text": [
            "Training set score: 1.0000\n",
            "Test set score: 0.8679\n"
          ]
        }
      ]
    },
    {
      "cell_type": "code",
      "source": [
        "from sklearn.metrics import confusion_matrix\n",
        "cm = confusion_matrix(y_test, y_pred)\n",
        "print(cm)"
      ],
      "metadata": {
        "id": "Ymk7mNNrEd48",
        "colab": {
          "base_uri": "https://localhost:8080/"
        },
        "outputId": "6671b463-3c0f-4b02-c628-333252448c60"
      },
      "execution_count": null,
      "outputs": [
        {
          "output_type": "stream",
          "name": "stdout",
          "text": [
            "[[21  4]\n",
            " [ 5 23]]\n"
          ]
        }
      ]
    },
    {
      "cell_type": "code",
      "source": [
        "from sklearn.metrics import classification_report\n",
        "\n",
        "print(classification_report(y_test, y_pred))"
      ],
      "metadata": {
        "id": "I_Y3dMEXEpok",
        "colab": {
          "base_uri": "https://localhost:8080/"
        },
        "outputId": "4a54d92f-b6d2-4fba-f13f-d57a2547cbe2"
      },
      "execution_count": null,
      "outputs": [
        {
          "output_type": "stream",
          "name": "stdout",
          "text": [
            "              precision    recall  f1-score   support\n",
            "\n",
            "           0       0.81      0.84      0.82        25\n",
            "           1       0.85      0.82      0.84        28\n",
            "\n",
            "    accuracy                           0.83        53\n",
            "   macro avg       0.83      0.83      0.83        53\n",
            "weighted avg       0.83      0.83      0.83        53\n",
            "\n"
          ]
        }
      ]
    },
    {
      "cell_type": "code",
      "source": [
        "from sklearn import metrics\n",
        "cnf_matrix = metrics.confusion_matrix(y_test, y_pred)\n",
        "p = sns.heatmap(pd.DataFrame(cnf_matrix), annot=True, cmap=\"YlGnBu\" ,fmt='g')\n",
        "plt.title('Confusion matrix', y=1.1)\n",
        "plt.ylabel('Actual label')\n",
        "plt.xlabel('Predicted label')"
      ],
      "metadata": {
        "id": "d_C64vPNErG0",
        "colab": {
          "base_uri": "https://localhost:8080/"
        },
        "outputId": "fe3f2915-77bc-471f-8a2d-f351dc1517a4"
      },
      "execution_count": null,
      "outputs": [
        {
          "output_type": "execute_result",
          "data": {
            "text/plain": [
              "Text(0.5, 12.5, 'Predicted label')"
            ]
          },
          "metadata": {},
          "execution_count": 80
        },
        {
          "output_type": "display_data",
          "data": {
            "text/plain": [
              "<Figure size 432x288 with 2 Axes>"
            ],
            "image/png": "[encoded data removed]"
          },
          "metadata": {
            "needs_background": "light"
          }
        }
      ]
    }
  ],
  "metadata": {
    "colab": {
      "provenance": [],
      "collapsed_sections": [
        "QEnqGp3B3HAA",
        "e3bxRxOBx-Ci",
        "ix-Tm4XO5-K6",
        "5yQrZ8Un-Fmi",
        "htD1_A_vBOYK"
      ],
      "include_colab_link": true
    },
    "kernelspec": {
      "display_name": "Python 3",
      "name": "python3"
    },
    "language_info": {
      "name": "python"
    }
  },
  "nbformat": 4,
  "nbformat_minor": 0
}